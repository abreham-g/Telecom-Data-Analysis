{
 "cells": [
  {
   "cell_type": "markdown",
   "id": "4849c4f3",
   "metadata": {},
   "source": [
    "# Importing libraries"
   ]
  },
  {
   "cell_type": "code",
   "execution_count": 1,
   "id": "76c233e8",
   "metadata": {},
   "outputs": [],
   "source": [
    "import pandas as pd\n",
    "import numpy as np\n",
    "import pandas as pd\n",
    "import seaborn as sb\n",
    "import matplotlib.pyplot as plt\n",
    "import numpy as np\n",
    "%matplotlib inline\n",
    "from sklearn import preprocessing\n",
    "from itertools import islice\n",
    "import seaborn as sns"
   ]
  },
  {
   "cell_type": "markdown",
   "id": "cf8ab316",
   "metadata": {},
   "source": [
    "### Ignoring warnings"
   ]
  },
  {
   "cell_type": "code",
   "execution_count": 2,
   "id": "604867fb",
   "metadata": {},
   "outputs": [],
   "source": [
    "import warnings\n",
    "warnings.filterwarnings('ignore')"
   ]
  },
  {
   "cell_type": "code",
   "execution_count": 4,
   "id": "a54234e5",
   "metadata": {},
   "outputs": [],
   "source": [
    "dataFrame = pd.read_csv('../data/week1_challenge.csv', na_values=['?', None])\n"
   ]
  },
  {
   "cell_type": "code",
   "execution_count": 5,
   "id": "99e6c16e",
   "metadata": {},
   "outputs": [],
   "source": [
    "#rename columns\n",
    "dataFrame=dataFrame.rename(columns = {'Total DL (Bytes)' : 'totalDL','Total UL (Bytes)' : 'totalUL','Dur. (ms)' : \n",
    "                                      'dur','MSISDN/Number':'msisdn','Last Location Name':'location',\n",
    "                                      'Handset Manufacturer':'manufacturer','Handset Type':'handset'\n",
    "                                     })"
   ]
  },
  {
   "cell_type": "markdown",
   "id": "d3f3db5f",
   "metadata": {},
   "source": [
    "### The following cell shows the top 10 users based on the total duration of all the sessions of each user"
   ]
  },
  {
   "cell_type": "code",
   "execution_count": 6,
   "id": "e2adeab6",
   "metadata": {},
   "outputs": [
    {
     "name": "stdout",
     "output_type": "stream",
     "text": [
      "33626320676.0 ---------- 18 Sessions\n",
      "33614892860.0 ---------- 17 Sessions\n",
      "33625779332.0 ---------- 17 Sessions\n",
      "33659725664.0 ---------- 16 Sessions\n",
      "33675877202.0 ---------- 15 Sessions\n",
      "33760536639.0 ---------- 15 Sessions\n",
      "33667163239.0 ---------- 13 Sessions\n",
      "33786323068.0 ---------- 12 Sessions\n",
      "33627080969.0 ---------- 12 Sessions\n",
      "33604515716.0 ---------- 12 Sessions\n"
     ]
    }
   ],
   "source": [
    "sessionsCountData=dataFrame['msisdn'].value_counts()\n",
    "sessionsCount=sessionsCountData.values.tolist()\n",
    "msisdn=sessionsCountData.index.values\n",
    "sessionPerUserDictionary = dict(zip(msisdn, sessionsCount))\n",
    "\n",
    "for key,value in list(islice(sessionPerUserDictionary.items(), 10)):\n",
    "    print(key,'----------',value,'Sessions')"
   ]
  },
  {
   "cell_type": "code",
   "execution_count": null,
   "id": "9d69d9cc",
   "metadata": {},
   "outputs": [],
   "source": []
  }
 ],
 "metadata": {
  "kernelspec": {
   "display_name": "Python 3",
   "language": "python",
   "name": "python3"
  },
  "language_info": {
   "codemirror_mode": {
    "name": "ipython",
    "version": 3
   },
   "file_extension": ".py",
   "mimetype": "text/x-python",
   "name": "python",
   "nbconvert_exporter": "python",
   "pygments_lexer": "ipython3",
   "version": "3.9.1"
  }
 },
 "nbformat": 4,
 "nbformat_minor": 5
}
