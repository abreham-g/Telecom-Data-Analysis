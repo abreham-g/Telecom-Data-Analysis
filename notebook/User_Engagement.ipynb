{
 "cells": [
  {
   "cell_type": "markdown",
   "id": "ab04aeca",
   "metadata": {},
   "source": [
    "# Importing libraries"
   ]
  },
  {
   "cell_type": "code",
   "execution_count": 1,
   "id": "f2fadcef",
   "metadata": {},
   "outputs": [],
   "source": [
    "import pandas as pd\n",
    "import numpy as np\n",
    "import pandas as pd\n",
    "import seaborn as sb\n",
    "import matplotlib.pyplot as plt\n",
    "import numpy as np\n",
    "%matplotlib inline\n",
    "from sklearn import preprocessing\n",
    "from itertools import islice\n",
    "import seaborn as sns"
   ]
  },
  {
   "cell_type": "markdown",
   "id": "a02ec389",
   "metadata": {},
   "source": [
    "### Ignoring warnings"
   ]
  },
  {
   "cell_type": "code",
   "execution_count": 2,
   "id": "c90694e5",
   "metadata": {},
   "outputs": [],
   "source": [
    "import warnings\n",
    "warnings.filterwarnings('ignore')"
   ]
  },
  {
   "cell_type": "code",
   "execution_count": 4,
   "id": "0b0b1a2b",
   "metadata": {},
   "outputs": [],
   "source": [
    "dataFrame = pd.read_csv('../data/week1_challenge.csv', na_values=['?', None])\n"
   ]
  },
  {
   "cell_type": "code",
   "execution_count": 5,
   "id": "22fcaaff",
   "metadata": {},
   "outputs": [],
   "source": [
    "#rename columns\n",
    "dataFrame=dataFrame.rename(columns = {'Total DL (Bytes)' : 'totalDL','Total UL (Bytes)' : 'totalUL','Dur. (ms)' : \n",
    "                                      'dur','MSISDN/Number':'msisdn','Last Location Name':'location',\n",
    "                                      'Handset Manufacturer':'manufacturer','Handset Type':'handset'\n",
    "                                     })"
   ]
  },
  {
   "cell_type": "markdown",
   "id": "f7e24678",
   "metadata": {},
   "source": [
    "### below I'll show the top 10 users based on session frequency"
   ]
  },
  {
   "cell_type": "code",
   "execution_count": 6,
   "id": "c329e519",
   "metadata": {},
   "outputs": [
    {
     "name": "stdout",
     "output_type": "stream",
     "text": [
      "33626320676.0 ---------- 18 Sessions\n",
      "33614892860.0 ---------- 17 Sessions\n",
      "33625779332.0 ---------- 17 Sessions\n",
      "33659725664.0 ---------- 16 Sessions\n",
      "33675877202.0 ---------- 15 Sessions\n",
      "33760536639.0 ---------- 15 Sessions\n",
      "33667163239.0 ---------- 13 Sessions\n",
      "33786323068.0 ---------- 12 Sessions\n",
      "33627080969.0 ---------- 12 Sessions\n",
      "33604515716.0 ---------- 12 Sessions\n"
     ]
    }
   ],
   "source": [
    "sessionsCountData=dataFrame['msisdn'].value_counts()\n",
    "sessionsCount=sessionsCountData.values.tolist()\n",
    "msisdn=sessionsCountData.index.values\n",
    "sessionPerUserDictionary = dict(zip(msisdn, sessionsCount))\n",
    "\n",
    "for key,value in list(islice(sessionPerUserDictionary.items(), 10)):\n",
    "    print(key,'----------',value,'Sessions')"
   ]
  },
  {
   "cell_type": "markdown",
   "id": "97d9095d",
   "metadata": {},
   "source": [
    "### The following cell shows the top 10 users based on the total duration of all the sessions of each user"
   ]
  },
  {
   "cell_type": "code",
   "execution_count": 8,
   "id": "e22de157",
   "metadata": {},
   "outputs": [
    {
     "name": "stdout",
     "output_type": "stream",
     "text": [
      "33601001722.0 ---------- 116720.0 Microseconds\n",
      "33601001754.0 ---------- 181230.0 Microseconds\n",
      "33601002511.0 ---------- 134969.0 Microseconds\n",
      "33601007832.0 ---------- 49878.0 Microseconds\n",
      "33601008617.0 ---------- 37104.0 Microseconds\n",
      "33601010682.0 ---------- 253983.0 Microseconds\n",
      "33601011634.0 ---------- 128360.0 Microseconds\n",
      "33601011959.0 ---------- 86399.0 Microseconds\n",
      "33601014694.0 ---------- 495702.0 Microseconds\n",
      "33601020306.0 ---------- 124854.0 Microseconds\n"
     ]
    }
   ],
   "source": [
    "durationSumDF=dataFrame.groupby('msisdn')['dur'].sum()\n",
    "duration = durationSumDF.values.tolist()\n",
    "msisdn=durationSumDF.index.values\n",
    "durationPerUser = dict(zip(msisdn, duration))\n",
    "\n",
    "for key,value in list(islice(durationPerUser.items(), 10)):\n",
    "    print(key,'----------',value,'Microseconds')"
   ]
  },
  {
   "cell_type": "markdown",
   "id": "4eafd2a3",
   "metadata": {},
   "source": [
    "### The following cell shows the top 10 users based on the total duration of all the sessions of each user"
   ]
  },
  {
   "cell_type": "code",
   "execution_count": 12,
   "id": "4092874b",
   "metadata": {},
   "outputs": [
    {
     "name": "stdout",
     "output_type": "stream",
     "text": [
      "33601001722.0 ---------- 878690574.0 Bytes\n",
      "33601001754.0 ---------- 156859643.0 Bytes\n",
      "33601002511.0 ---------- 595966483.0 Bytes\n",
      "33601007832.0 ---------- 422320698.0 Bytes\n",
      "33601008617.0 ---------- 1457410944.0 Bytes\n",
      "33601010682.0 ---------- 615217221.0 Bytes\n",
      "33601011634.0 ---------- 654723066.0 Bytes\n",
      "33601011959.0 ---------- 332660357.0 Bytes\n",
      "33601014694.0 ---------- 990132189.0 Bytes\n",
      "33601020306.0 ---------- 732463761.0 Bytes\n"
     ]
    }
   ],
   "source": [
    "sum_column = dataFrame[\"totalUL\"] + dataFrame[\"totalDL\"]\n",
    "dataFrame[\"totalData\"] = sum_column\n",
    "totalDataDF=dataFrame.groupby('msisdn')['totalData'].sum()\n",
    "totalData = totalDataDF.values.tolist()\n",
    "msisdn=totalDataDF.index.values\n",
    "\n",
    "totalDataUserDictionary = dict(zip(msisdn, totalData))\n",
    "\n",
    "for key,value in list(islice(totalDataUserDictionary.items(), 10)):\n",
    "    print(key,'----------',value,'Bytes')"
   ]
  },
  {
   "cell_type": "markdown",
   "id": "bb66d261",
   "metadata": {},
   "source": [
    "# The top 10 customers per engagement metric\n"
   ]
  },
  {
   "cell_type": "code",
   "execution_count": 11,
   "id": "e43ec607",
   "metadata": {},
   "outputs": [
    {
     "data": {
      "text/html": [
       "<div>\n",
       "<style scoped>\n",
       "    .dataframe tbody tr th:only-of-type {\n",
       "        vertical-align: middle;\n",
       "    }\n",
       "\n",
       "    .dataframe tbody tr th {\n",
       "        vertical-align: top;\n",
       "    }\n",
       "\n",
       "    .dataframe thead th {\n",
       "        text-align: right;\n",
       "    }\n",
       "</style>\n",
       "<table border=\"1\" class=\"dataframe\">\n",
       "  <thead>\n",
       "    <tr style=\"text-align: right;\">\n",
       "      <th></th>\n",
       "      <th>MSISDN</th>\n",
       "      <th>Session Frequency</th>\n",
       "      <th>Session Duration</th>\n",
       "      <th>Total Data</th>\n",
       "    </tr>\n",
       "  </thead>\n",
       "  <tbody>\n",
       "    <tr>\n",
       "      <th>85539</th>\n",
       "      <td>3.369851e+10</td>\n",
       "      <td>2</td>\n",
       "      <td>103128.0</td>\n",
       "      <td>7.277828e+08</td>\n",
       "    </tr>\n",
       "    <tr>\n",
       "      <th>58556</th>\n",
       "      <td>3.366506e+10</td>\n",
       "      <td>1</td>\n",
       "      <td>97140.0</td>\n",
       "      <td>4.813763e+08</td>\n",
       "    </tr>\n",
       "    <tr>\n",
       "      <th>90561</th>\n",
       "      <td>3.375090e+10</td>\n",
       "      <td>2</td>\n",
       "      <td>26310.0</td>\n",
       "      <td>4.293895e+08</td>\n",
       "    </tr>\n",
       "    <tr>\n",
       "      <th>37313</th>\n",
       "      <td>3.365978e+10</td>\n",
       "      <td>3</td>\n",
       "      <td>259197.0</td>\n",
       "      <td>1.141202e+09</td>\n",
       "    </tr>\n",
       "    <tr>\n",
       "      <th>70361</th>\n",
       "      <td>3.366888e+10</td>\n",
       "      <td>1</td>\n",
       "      <td>86399.0</td>\n",
       "      <td>2.484075e+08</td>\n",
       "    </tr>\n",
       "    <tr>\n",
       "      <th>60657</th>\n",
       "      <td>3.366562e+10</td>\n",
       "      <td>1</td>\n",
       "      <td>94864.0</td>\n",
       "      <td>8.932899e+08</td>\n",
       "    </tr>\n",
       "    <tr>\n",
       "      <th>37107</th>\n",
       "      <td>3.365974e+10</td>\n",
       "      <td>4</td>\n",
       "      <td>281926.0</td>\n",
       "      <td>1.631017e+09</td>\n",
       "    </tr>\n",
       "    <tr>\n",
       "      <th>11102</th>\n",
       "      <td>3.362241e+10</td>\n",
       "      <td>1</td>\n",
       "      <td>31645.0</td>\n",
       "      <td>8.314510e+08</td>\n",
       "    </tr>\n",
       "    <tr>\n",
       "      <th>50222</th>\n",
       "      <td>3.366283e+10</td>\n",
       "      <td>1</td>\n",
       "      <td>33919.0</td>\n",
       "      <td>7.456491e+08</td>\n",
       "    </tr>\n",
       "    <tr>\n",
       "      <th>12112</th>\n",
       "      <td>3.362406e+10</td>\n",
       "      <td>1</td>\n",
       "      <td>86395.0</td>\n",
       "      <td>5.188775e+08</td>\n",
       "    </tr>\n",
       "  </tbody>\n",
       "</table>\n",
       "</div>"
      ],
      "text/plain": [
       "             MSISDN  Session Frequency  Session Duration    Total Data\n",
       "85539  3.369851e+10                  2          103128.0  7.277828e+08\n",
       "58556  3.366506e+10                  1           97140.0  4.813763e+08\n",
       "90561  3.375090e+10                  2           26310.0  4.293895e+08\n",
       "37313  3.365978e+10                  3          259197.0  1.141202e+09\n",
       "70361  3.366888e+10                  1           86399.0  2.484075e+08\n",
       "60657  3.366562e+10                  1           94864.0  8.932899e+08\n",
       "37107  3.365974e+10                  4          281926.0  1.631017e+09\n",
       "11102  3.362241e+10                  1           31645.0  8.314510e+08\n",
       "50222  3.366283e+10                  1           33919.0  7.456491e+08\n",
       "12112  3.362406e+10                  1           86395.0  5.188775e+08"
      ]
     },
     "execution_count": 11,
     "metadata": {},
     "output_type": "execute_result"
    }
   ],
   "source": [
    "userEngagementDF=pd.DataFrame(columns=['MSISDN' ,'Session Frequency','Session Duration','Total Data'])\n",
    "userEngagementDF['MSISDN']=durationPerUser.keys()\n",
    "\n",
    "userEngagementDF['Session Frequency']=userEngagementDF['MSISDN'].map(sessionPerUserDictionary)\n",
    "userEngagementDF['Session Duration']=userEngagementDF['MSISDN'].map(durationPerUser)\n",
    "userEngagementDF['Total Data']= userEngagementDF['MSISDN'].map(totalDataUserDictionary)\n",
    "\n",
    "userEngagementDF.sample(10)"
   ]
  },
  {
   "cell_type": "markdown",
   "id": "66e88113",
   "metadata": {},
   "source": [
    "### a k-means (k=3) to classify customers in three groups of engagement.\n"
   ]
  },
  {
   "cell_type": "code",
   "execution_count": null,
   "id": "856e8f19",
   "metadata": {},
   "outputs": [],
   "source": []
  }
 ],
 "metadata": {
  "kernelspec": {
   "display_name": "Python 3",
   "language": "python",
   "name": "python3"
  },
  "language_info": {
   "codemirror_mode": {
    "name": "ipython",
    "version": 3
   },
   "file_extension": ".py",
   "mimetype": "text/x-python",
   "name": "python",
   "nbconvert_exporter": "python",
   "pygments_lexer": "ipython3",
   "version": "3.9.1"
  }
 },
 "nbformat": 4,
 "nbformat_minor": 5
}
