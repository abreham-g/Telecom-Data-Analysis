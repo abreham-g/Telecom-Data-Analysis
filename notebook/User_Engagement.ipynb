{
 "cells": [
  {
   "cell_type": "markdown",
   "id": "8c1567a4",
   "metadata": {},
   "source": [
    "# Importing libraries"
   ]
  },
  {
   "cell_type": "code",
   "execution_count": 1,
   "id": "20590c72",
   "metadata": {},
   "outputs": [],
   "source": [
    "import pandas as pd\n",
    "import numpy as np\n",
    "import pandas as pd\n",
    "import seaborn as sb\n",
    "import matplotlib.pyplot as plt\n",
    "import numpy as np\n",
    "%matplotlib inline\n",
    "from sklearn import preprocessing\n",
    "from itertools import islice\n",
    "import seaborn as sns"
   ]
  },
  {
   "cell_type": "markdown",
   "id": "0d6382d0",
   "metadata": {},
   "source": [
    "### Ignoring warnings"
   ]
  },
  {
   "cell_type": "code",
   "execution_count": 2,
   "id": "6de87419",
   "metadata": {},
   "outputs": [],
   "source": [
    "import warnings\n",
    "warnings.filterwarnings('ignore')"
   ]
  },
  {
   "cell_type": "code",
   "execution_count": 4,
   "id": "b9488edd",
   "metadata": {},
   "outputs": [],
   "source": [
    "dataFrame = pd.read_csv('../data/week1_challenge.csv', na_values=['?', None])\n"
   ]
  },
  {
   "cell_type": "code",
   "execution_count": 5,
   "id": "becea151",
   "metadata": {},
   "outputs": [],
   "source": [
    "#rename columns\n",
    "dataFrame=dataFrame.rename(columns = {'Total DL (Bytes)' : 'totalDL','Total UL (Bytes)' : 'totalUL','Dur. (ms)' : \n",
    "                                      'dur','MSISDN/Number':'msisdn','Last Location Name':'location',\n",
    "                                      'Handset Manufacturer':'manufacturer','Handset Type':'handset'\n",
    "                                     })"
   ]
  },
  {
   "cell_type": "markdown",
   "id": "fad08c6c",
   "metadata": {},
   "source": [
    "### below I'll show the top 10 users based on session frequency"
   ]
  },
  {
   "cell_type": "code",
   "execution_count": 6,
   "id": "ffad0496",
   "metadata": {},
   "outputs": [
    {
     "name": "stdout",
     "output_type": "stream",
     "text": [
      "33626320676.0 ---------- 18 Sessions\n",
      "33614892860.0 ---------- 17 Sessions\n",
      "33625779332.0 ---------- 17 Sessions\n",
      "33659725664.0 ---------- 16 Sessions\n",
      "33675877202.0 ---------- 15 Sessions\n",
      "33760536639.0 ---------- 15 Sessions\n",
      "33667163239.0 ---------- 13 Sessions\n",
      "33786323068.0 ---------- 12 Sessions\n",
      "33627080969.0 ---------- 12 Sessions\n",
      "33604515716.0 ---------- 12 Sessions\n"
     ]
    }
   ],
   "source": [
    "sessionsCountData=dataFrame['msisdn'].value_counts()\n",
    "sessionsCount=sessionsCountData.values.tolist()\n",
    "msisdn=sessionsCountData.index.values\n",
    "sessionPerUserDictionary = dict(zip(msisdn, sessionsCount))\n",
    "\n",
    "for key,value in list(islice(sessionPerUserDictionary.items(), 10)):\n",
    "    print(key,'----------',value,'Sessions')"
   ]
  },
  {
   "cell_type": "markdown",
   "id": "3d5304e0",
   "metadata": {},
   "source": [
    "### The following cell shows the top 10 users based on the total duration of all the sessions of each user"
   ]
  },
  {
   "cell_type": "code",
   "execution_count": 8,
   "id": "9ca62dfd",
   "metadata": {},
   "outputs": [
    {
     "name": "stdout",
     "output_type": "stream",
     "text": [
      "33601001722.0 ---------- 116720.0 Microseconds\n",
      "33601001754.0 ---------- 181230.0 Microseconds\n",
      "33601002511.0 ---------- 134969.0 Microseconds\n",
      "33601007832.0 ---------- 49878.0 Microseconds\n",
      "33601008617.0 ---------- 37104.0 Microseconds\n",
      "33601010682.0 ---------- 253983.0 Microseconds\n",
      "33601011634.0 ---------- 128360.0 Microseconds\n",
      "33601011959.0 ---------- 86399.0 Microseconds\n",
      "33601014694.0 ---------- 495702.0 Microseconds\n",
      "33601020306.0 ---------- 124854.0 Microseconds\n"
     ]
    }
   ],
   "source": [
    "durationSumDF=dataFrame.groupby('msisdn')['dur'].sum()\n",
    "duration = durationSumDF.values.tolist()\n",
    "msisdn=durationSumDF.index.values\n",
    "durationPerUser = dict(zip(msisdn, duration))\n",
    "\n",
    "for key,value in list(islice(durationPerUser.items(), 10)):\n",
    "    print(key,'----------',value,'Microseconds')"
   ]
  },
  {
   "cell_type": "markdown",
   "id": "e3ca42bc",
   "metadata": {},
   "source": [
    "### The following cell shows the top 10 users based on the total duration of all the sessions of each user"
   ]
  },
  {
   "cell_type": "code",
   "execution_count": 12,
   "id": "375f7ab0",
   "metadata": {},
   "outputs": [
    {
     "name": "stdout",
     "output_type": "stream",
     "text": [
      "33601001722.0 ---------- 878690574.0 Bytes\n",
      "33601001754.0 ---------- 156859643.0 Bytes\n",
      "33601002511.0 ---------- 595966483.0 Bytes\n",
      "33601007832.0 ---------- 422320698.0 Bytes\n",
      "33601008617.0 ---------- 1457410944.0 Bytes\n",
      "33601010682.0 ---------- 615217221.0 Bytes\n",
      "33601011634.0 ---------- 654723066.0 Bytes\n",
      "33601011959.0 ---------- 332660357.0 Bytes\n",
      "33601014694.0 ---------- 990132189.0 Bytes\n",
      "33601020306.0 ---------- 732463761.0 Bytes\n"
     ]
    }
   ],
   "source": [
    "sum_column = dataFrame[\"totalUL\"] + dataFrame[\"totalDL\"]\n",
    "dataFrame[\"totalData\"] = sum_column\n",
    "totalDataDF=dataFrame.groupby('msisdn')['totalData'].sum()\n",
    "totalData = totalDataDF.values.tolist()\n",
    "msisdn=totalDataDF.index.values\n",
    "\n",
    "totalDataUserDictionary = dict(zip(msisdn, totalData))\n",
    "\n",
    "for key,value in list(islice(totalDataUserDictionary.items(), 10)):\n",
    "    print(key,'----------',value,'Bytes')"
   ]
  },
  {
   "cell_type": "markdown",
   "id": "31f9b5a7",
   "metadata": {},
   "source": [
    "# The top 10 customers per engagement metric\n"
   ]
  },
  {
   "cell_type": "code",
   "execution_count": 11,
   "id": "490ce286",
   "metadata": {},
   "outputs": [
    {
     "data": {
      "text/html": [
       "<div>\n",
       "<style scoped>\n",
       "    .dataframe tbody tr th:only-of-type {\n",
       "        vertical-align: middle;\n",
       "    }\n",
       "\n",
       "    .dataframe tbody tr th {\n",
       "        vertical-align: top;\n",
       "    }\n",
       "\n",
       "    .dataframe thead th {\n",
       "        text-align: right;\n",
       "    }\n",
       "</style>\n",
       "<table border=\"1\" class=\"dataframe\">\n",
       "  <thead>\n",
       "    <tr style=\"text-align: right;\">\n",
       "      <th></th>\n",
       "      <th>MSISDN</th>\n",
       "      <th>Session Frequency</th>\n",
       "      <th>Session Duration</th>\n",
       "      <th>Total Data</th>\n",
       "    </tr>\n",
       "  </thead>\n",
       "  <tbody>\n",
       "    <tr>\n",
       "      <th>85539</th>\n",
       "      <td>3.369851e+10</td>\n",
       "      <td>2</td>\n",
       "      <td>103128.0</td>\n",
       "      <td>7.277828e+08</td>\n",
       "    </tr>\n",
       "    <tr>\n",
       "      <th>58556</th>\n",
       "      <td>3.366506e+10</td>\n",
       "      <td>1</td>\n",
       "      <td>97140.0</td>\n",
       "      <td>4.813763e+08</td>\n",
       "    </tr>\n",
       "    <tr>\n",
       "      <th>90561</th>\n",
       "      <td>3.375090e+10</td>\n",
       "      <td>2</td>\n",
       "      <td>26310.0</td>\n",
       "      <td>4.293895e+08</td>\n",
       "    </tr>\n",
       "    <tr>\n",
       "      <th>37313</th>\n",
       "      <td>3.365978e+10</td>\n",
       "      <td>3</td>\n",
       "      <td>259197.0</td>\n",
       "      <td>1.141202e+09</td>\n",
       "    </tr>\n",
       "    <tr>\n",
       "      <th>70361</th>\n",
       "      <td>3.366888e+10</td>\n",
       "      <td>1</td>\n",
       "      <td>86399.0</td>\n",
       "      <td>2.484075e+08</td>\n",
       "    </tr>\n",
       "    <tr>\n",
       "      <th>60657</th>\n",
       "      <td>3.366562e+10</td>\n",
       "      <td>1</td>\n",
       "      <td>94864.0</td>\n",
       "      <td>8.932899e+08</td>\n",
       "    </tr>\n",
       "    <tr>\n",
       "      <th>37107</th>\n",
       "      <td>3.365974e+10</td>\n",
       "      <td>4</td>\n",
       "      <td>281926.0</td>\n",
       "      <td>1.631017e+09</td>\n",
       "    </tr>\n",
       "    <tr>\n",
       "      <th>11102</th>\n",
       "      <td>3.362241e+10</td>\n",
       "      <td>1</td>\n",
       "      <td>31645.0</td>\n",
       "      <td>8.314510e+08</td>\n",
       "    </tr>\n",
       "    <tr>\n",
       "      <th>50222</th>\n",
       "      <td>3.366283e+10</td>\n",
       "      <td>1</td>\n",
       "      <td>33919.0</td>\n",
       "      <td>7.456491e+08</td>\n",
       "    </tr>\n",
       "    <tr>\n",
       "      <th>12112</th>\n",
       "      <td>3.362406e+10</td>\n",
       "      <td>1</td>\n",
       "      <td>86395.0</td>\n",
       "      <td>5.188775e+08</td>\n",
       "    </tr>\n",
       "  </tbody>\n",
       "</table>\n",
       "</div>"
      ],
      "text/plain": [
       "             MSISDN  Session Frequency  Session Duration    Total Data\n",
       "85539  3.369851e+10                  2          103128.0  7.277828e+08\n",
       "58556  3.366506e+10                  1           97140.0  4.813763e+08\n",
       "90561  3.375090e+10                  2           26310.0  4.293895e+08\n",
       "37313  3.365978e+10                  3          259197.0  1.141202e+09\n",
       "70361  3.366888e+10                  1           86399.0  2.484075e+08\n",
       "60657  3.366562e+10                  1           94864.0  8.932899e+08\n",
       "37107  3.365974e+10                  4          281926.0  1.631017e+09\n",
       "11102  3.362241e+10                  1           31645.0  8.314510e+08\n",
       "50222  3.366283e+10                  1           33919.0  7.456491e+08\n",
       "12112  3.362406e+10                  1           86395.0  5.188775e+08"
      ]
     },
     "execution_count": 11,
     "metadata": {},
     "output_type": "execute_result"
    }
   ],
   "source": [
    "userEngagementDF=pd.DataFrame(columns=['MSISDN' ,'Session Frequency','Session Duration','Total Data'])\n",
    "userEngagementDF['MSISDN']=durationPerUser.keys()\n",
    "\n",
    "userEngagementDF['Session Frequency']=userEngagementDF['MSISDN'].map(sessionPerUserDictionary)\n",
    "userEngagementDF['Session Duration']=userEngagementDF['MSISDN'].map(durationPerUser)\n",
    "userEngagementDF['Total Data']= userEngagementDF['MSISDN'].map(totalDataUserDictionary)\n",
    "\n",
    "userEngagementDF.sample(10)"
   ]
  },
  {
   "cell_type": "markdown",
   "id": "e60f2eae",
   "metadata": {},
   "source": [
    "### a k-means (k=3) to classify customers in three groups of engagement.\n"
   ]
  },
  {
   "cell_type": "code",
   "execution_count": 13,
   "id": "7b4431bd",
   "metadata": {},
   "outputs": [],
   "source": [
    "x = userEngagementDF[['Session Frequency','Session Duration','Total Data']].values.astype(float)\n",
    "min_max_scaler = preprocessing.MinMaxScaler()\n",
    "x_scaled = min_max_scaler.fit_transform(x)\n",
    "normalized = pd.DataFrame(x_scaled,columns=['Session Frequency','Session Duration','Total Data'])"
   ]
  },
  {
   "cell_type": "code",
   "execution_count": 14,
   "id": "10261ca2",
   "metadata": {},
   "outputs": [
    {
     "data": {
      "text/plain": [
       "KMeans(max_iter=1000, n_clusters=3)"
      ]
     },
     "execution_count": 14,
     "metadata": {},
     "output_type": "execute_result"
    }
   ],
   "source": [
    "from sklearn.cluster import KMeans\n",
    "KMean_clust= KMeans(n_clusters=3, init='k-means++',max_iter=1000)\n",
    "KMean_clust.fit(normalized)"
   ]
  },
  {
   "cell_type": "markdown",
   "id": "73cbb752",
   "metadata": {},
   "source": [
    "## The following cell assigns the corrosponding cluster labels to each entry in the dataframe"
   ]
  },
  {
   "cell_type": "code",
   "execution_count": 15,
   "id": "87fa3b69",
   "metadata": {},
   "outputs": [
    {
     "data": {
      "text/html": [
       "<div>\n",
       "<style scoped>\n",
       "    .dataframe tbody tr th:only-of-type {\n",
       "        vertical-align: middle;\n",
       "    }\n",
       "\n",
       "    .dataframe tbody tr th {\n",
       "        vertical-align: top;\n",
       "    }\n",
       "\n",
       "    .dataframe thead th {\n",
       "        text-align: right;\n",
       "    }\n",
       "</style>\n",
       "<table border=\"1\" class=\"dataframe\">\n",
       "  <thead>\n",
       "    <tr style=\"text-align: right;\">\n",
       "      <th></th>\n",
       "      <th>Session Frequency</th>\n",
       "      <th>Session Duration</th>\n",
       "      <th>Total Data</th>\n",
       "      <th>Cluster</th>\n",
       "      <th>MSISDN</th>\n",
       "    </tr>\n",
       "  </thead>\n",
       "  <tbody>\n",
       "    <tr>\n",
       "      <th>74692</th>\n",
       "      <td>0.000000</td>\n",
       "      <td>0.000851</td>\n",
       "      <td>0.014230</td>\n",
       "      <td>0</td>\n",
       "      <td>3.367273e+10</td>\n",
       "    </tr>\n",
       "    <tr>\n",
       "      <th>96810</th>\n",
       "      <td>0.000000</td>\n",
       "      <td>0.005683</td>\n",
       "      <td>0.058024</td>\n",
       "      <td>0</td>\n",
       "      <td>3.376199e+10</td>\n",
       "    </tr>\n",
       "    <tr>\n",
       "      <th>12877</th>\n",
       "      <td>0.000000</td>\n",
       "      <td>0.004385</td>\n",
       "      <td>0.011704</td>\n",
       "      <td>0</td>\n",
       "      <td>3.362532e+10</td>\n",
       "    </tr>\n",
       "    <tr>\n",
       "      <th>62229</th>\n",
       "      <td>0.000000</td>\n",
       "      <td>0.006673</td>\n",
       "      <td>0.036289</td>\n",
       "      <td>0</td>\n",
       "      <td>3.366618e+10</td>\n",
       "    </tr>\n",
       "    <tr>\n",
       "      <th>106197</th>\n",
       "      <td>0.058824</td>\n",
       "      <td>0.002982</td>\n",
       "      <td>0.104054</td>\n",
       "      <td>1</td>\n",
       "      <td>3.378653e+10</td>\n",
       "    </tr>\n",
       "    <tr>\n",
       "      <th>19561</th>\n",
       "      <td>0.000000</td>\n",
       "      <td>0.008668</td>\n",
       "      <td>0.044940</td>\n",
       "      <td>0</td>\n",
       "      <td>3.364120e+10</td>\n",
       "    </tr>\n",
       "    <tr>\n",
       "      <th>14899</th>\n",
       "      <td>0.176471</td>\n",
       "      <td>0.018593</td>\n",
       "      <td>0.207254</td>\n",
       "      <td>2</td>\n",
       "      <td>3.362867e+10</td>\n",
       "    </tr>\n",
       "    <tr>\n",
       "      <th>31602</th>\n",
       "      <td>0.000000</td>\n",
       "      <td>0.000150</td>\n",
       "      <td>0.096874</td>\n",
       "      <td>0</td>\n",
       "      <td>3.365855e+10</td>\n",
       "    </tr>\n",
       "    <tr>\n",
       "      <th>15057</th>\n",
       "      <td>0.000000</td>\n",
       "      <td>0.000290</td>\n",
       "      <td>0.083161</td>\n",
       "      <td>0</td>\n",
       "      <td>3.362902e+10</td>\n",
       "    </tr>\n",
       "    <tr>\n",
       "      <th>24118</th>\n",
       "      <td>0.000000</td>\n",
       "      <td>0.000822</td>\n",
       "      <td>0.066206</td>\n",
       "      <td>0</td>\n",
       "      <td>3.365028e+10</td>\n",
       "    </tr>\n",
       "  </tbody>\n",
       "</table>\n",
       "</div>"
      ],
      "text/plain": [
       "        Session Frequency  Session Duration  Total Data  Cluster        MSISDN\n",
       "74692            0.000000          0.000851    0.014230        0  3.367273e+10\n",
       "96810            0.000000          0.005683    0.058024        0  3.376199e+10\n",
       "12877            0.000000          0.004385    0.011704        0  3.362532e+10\n",
       "62229            0.000000          0.006673    0.036289        0  3.366618e+10\n",
       "106197           0.058824          0.002982    0.104054        1  3.378653e+10\n",
       "19561            0.000000          0.008668    0.044940        0  3.364120e+10\n",
       "14899            0.176471          0.018593    0.207254        2  3.362867e+10\n",
       "31602            0.000000          0.000150    0.096874        0  3.365855e+10\n",
       "15057            0.000000          0.000290    0.083161        0  3.362902e+10\n",
       "24118            0.000000          0.000822    0.066206        0  3.365028e+10"
      ]
     },
     "execution_count": 15,
     "metadata": {},
     "output_type": "execute_result"
    }
   ],
   "source": [
    "normalized['Cluster']= KMean_clust.labels_\n",
    "normalized['MSISDN']= durationPerUser.keys()\n",
    "normalized.sample(10)\n"
   ]
  },
  {
   "cell_type": "markdown",
   "id": "e60504f1",
   "metadata": {},
   "source": [
    "### below I'll shows the sum of each engagement metric for each cluster"
   ]
  },
  {
   "cell_type": "code",
   "execution_count": 16,
   "id": "1c59d86b",
   "metadata": {},
   "outputs": [
    {
     "data": {
      "text/html": [
       "<div>\n",
       "<style scoped>\n",
       "    .dataframe tbody tr th:only-of-type {\n",
       "        vertical-align: middle;\n",
       "    }\n",
       "\n",
       "    .dataframe tbody tr th {\n",
       "        vertical-align: top;\n",
       "    }\n",
       "\n",
       "    .dataframe thead th {\n",
       "        text-align: right;\n",
       "    }\n",
       "</style>\n",
       "<table border=\"1\" class=\"dataframe\">\n",
       "  <thead>\n",
       "    <tr style=\"text-align: right;\">\n",
       "      <th></th>\n",
       "      <th>Session Frequency</th>\n",
       "      <th>Session Duration</th>\n",
       "      <th>Total Data</th>\n",
       "    </tr>\n",
       "    <tr>\n",
       "      <th>Cluster</th>\n",
       "      <th></th>\n",
       "      <th></th>\n",
       "      <th></th>\n",
       "    </tr>\n",
       "  </thead>\n",
       "  <tbody>\n",
       "    <tr>\n",
       "      <th>0</th>\n",
       "      <td>84579</td>\n",
       "      <td>8.682159e+09</td>\n",
       "      <td>4.021239e+13</td>\n",
       "    </tr>\n",
       "    <tr>\n",
       "      <th>1</th>\n",
       "      <td>47071</td>\n",
       "      <td>4.620476e+09</td>\n",
       "      <td>2.434290e+13</td>\n",
       "    </tr>\n",
       "    <tr>\n",
       "      <th>2</th>\n",
       "      <td>17285</td>\n",
       "      <td>2.316202e+09</td>\n",
       "      <td>9.278163e+12</td>\n",
       "    </tr>\n",
       "  </tbody>\n",
       "</table>\n",
       "</div>"
      ],
      "text/plain": [
       "         Session Frequency  Session Duration    Total Data\n",
       "Cluster                                                   \n",
       "0                    84579      8.682159e+09  4.021239e+13\n",
       "1                    47071      4.620476e+09  2.434290e+13\n",
       "2                    17285      2.316202e+09  9.278163e+12"
      ]
     },
     "execution_count": 16,
     "metadata": {},
     "output_type": "execute_result"
    }
   ],
   "source": [
    "metricDF=userEngagementDF[['Session Frequency','Session Duration','Total Data']]\n",
    "metricDF['Cluster']=KMean_clust.labels_\n",
    "clusteredSum = metricDF.groupby('Cluster').sum()\n",
    "\n",
    "clusteredSum\n"
   ]
  },
  {
   "cell_type": "markdown",
   "id": "ed27c169",
   "metadata": {},
   "source": [
    "### the minimum of each metric for each cluster"
   ]
  },
  {
   "cell_type": "code",
   "execution_count": 18,
   "id": "11821c3d",
   "metadata": {},
   "outputs": [
    {
     "data": {
      "text/html": [
       "<div>\n",
       "<style scoped>\n",
       "    .dataframe tbody tr th:only-of-type {\n",
       "        vertical-align: middle;\n",
       "    }\n",
       "\n",
       "    .dataframe tbody tr th {\n",
       "        vertical-align: top;\n",
       "    }\n",
       "\n",
       "    .dataframe thead th {\n",
       "        text-align: right;\n",
       "    }\n",
       "</style>\n",
       "<table border=\"1\" class=\"dataframe\">\n",
       "  <thead>\n",
       "    <tr style=\"text-align: right;\">\n",
       "      <th></th>\n",
       "      <th>Session Frequency</th>\n",
       "      <th>Session Duration</th>\n",
       "      <th>Total Data</th>\n",
       "    </tr>\n",
       "    <tr>\n",
       "      <th>Cluster</th>\n",
       "      <th></th>\n",
       "      <th></th>\n",
       "      <th></th>\n",
       "    </tr>\n",
       "  </thead>\n",
       "  <tbody>\n",
       "    <tr>\n",
       "      <th>0</th>\n",
       "      <td>1</td>\n",
       "      <td>7142.0</td>\n",
       "      <td>3.324901e+07</td>\n",
       "    </tr>\n",
       "    <tr>\n",
       "      <th>1</th>\n",
       "      <td>2</td>\n",
       "      <td>18235.0</td>\n",
       "      <td>2.842182e+08</td>\n",
       "    </tr>\n",
       "    <tr>\n",
       "      <th>2</th>\n",
       "      <td>3</td>\n",
       "      <td>46896.0</td>\n",
       "      <td>1.085994e+09</td>\n",
       "    </tr>\n",
       "  </tbody>\n",
       "</table>\n",
       "</div>"
      ],
      "text/plain": [
       "         Session Frequency  Session Duration    Total Data\n",
       "Cluster                                                   \n",
       "0                        1            7142.0  3.324901e+07\n",
       "1                        2           18235.0  2.842182e+08\n",
       "2                        3           46896.0  1.085994e+09"
      ]
     },
     "execution_count": 18,
     "metadata": {},
     "output_type": "execute_result"
    }
   ],
   "source": [
    "metricDF['Cluster']=KMean_clust.labels_\n",
    "clusteredMin = metricDF.groupby('Cluster').min()\n",
    "clusteredMin"
   ]
  },
  {
   "cell_type": "markdown",
   "id": "5a8686b7",
   "metadata": {},
   "source": [
    " ### the maximum of each metric for each cluster"
   ]
  },
  {
   "cell_type": "code",
   "execution_count": 22,
   "id": "b5dd19e2",
   "metadata": {},
   "outputs": [
    {
     "data": {
      "text/html": [
       "<div>\n",
       "<style scoped>\n",
       "    .dataframe tbody tr th:only-of-type {\n",
       "        vertical-align: middle;\n",
       "    }\n",
       "\n",
       "    .dataframe tbody tr th {\n",
       "        vertical-align: top;\n",
       "    }\n",
       "\n",
       "    .dataframe thead th {\n",
       "        text-align: right;\n",
       "    }\n",
       "</style>\n",
       "<table border=\"1\" class=\"dataframe\">\n",
       "  <thead>\n",
       "    <tr style=\"text-align: right;\">\n",
       "      <th></th>\n",
       "      <th>Session Frequency</th>\n",
       "      <th>Session Duration</th>\n",
       "      <th>Total Data</th>\n",
       "    </tr>\n",
       "    <tr>\n",
       "      <th>Cluster</th>\n",
       "      <th></th>\n",
       "      <th></th>\n",
       "      <th></th>\n",
       "    </tr>\n",
       "  </thead>\n",
       "  <tbody>\n",
       "    <tr>\n",
       "      <th>0</th>\n",
       "      <td>2</td>\n",
       "      <td>1573420.0</td>\n",
       "      <td>9.507607e+08</td>\n",
       "    </tr>\n",
       "    <tr>\n",
       "      <th>1</th>\n",
       "      <td>4</td>\n",
       "      <td>3174824.0</td>\n",
       "      <td>1.873330e+09</td>\n",
       "    </tr>\n",
       "    <tr>\n",
       "      <th>2</th>\n",
       "      <td>18</td>\n",
       "      <td>18553754.0</td>\n",
       "      <td>8.846226e+09</td>\n",
       "    </tr>\n",
       "  </tbody>\n",
       "</table>\n",
       "</div>"
      ],
      "text/plain": [
       "         Session Frequency  Session Duration    Total Data\n",
       "Cluster                                                   \n",
       "0                        2         1573420.0  9.507607e+08\n",
       "1                        4         3174824.0  1.873330e+09\n",
       "2                       18        18553754.0  8.846226e+09"
      ]
     },
     "execution_count": 22,
     "metadata": {},
     "output_type": "execute_result"
    }
   ],
   "source": [
    "metricDF['Cluster']=KMean_clust.labels_\n",
    "clusteredMax = metricDF.groupby('Cluster').max()\n",
    "clusteredMax"
   ]
  },
  {
   "cell_type": "markdown",
   "id": "45421992",
   "metadata": {},
   "source": [
    "  ### the mean of each metric for each cluster"
   ]
  },
  {
   "cell_type": "code",
   "execution_count": 23,
   "id": "eeca5345",
   "metadata": {},
   "outputs": [
    {
     "data": {
      "text/html": [
       "<div>\n",
       "<style scoped>\n",
       "    .dataframe tbody tr th:only-of-type {\n",
       "        vertical-align: middle;\n",
       "    }\n",
       "\n",
       "    .dataframe tbody tr th {\n",
       "        vertical-align: top;\n",
       "    }\n",
       "\n",
       "    .dataframe thead th {\n",
       "        text-align: right;\n",
       "    }\n",
       "</style>\n",
       "<table border=\"1\" class=\"dataframe\">\n",
       "  <thead>\n",
       "    <tr style=\"text-align: right;\">\n",
       "      <th></th>\n",
       "      <th>Session Frequency</th>\n",
       "      <th>Session Duration</th>\n",
       "      <th>Total Data</th>\n",
       "    </tr>\n",
       "    <tr>\n",
       "      <th>Cluster</th>\n",
       "      <th></th>\n",
       "      <th></th>\n",
       "      <th></th>\n",
       "    </tr>\n",
       "  </thead>\n",
       "  <tbody>\n",
       "    <tr>\n",
       "      <th>0</th>\n",
       "      <td>1.042191</td>\n",
       "      <td>106982.428945</td>\n",
       "      <td>4.955011e+08</td>\n",
       "    </tr>\n",
       "    <tr>\n",
       "      <th>1</th>\n",
       "      <td>2.175989</td>\n",
       "      <td>213594.500878</td>\n",
       "      <td>1.125319e+09</td>\n",
       "    </tr>\n",
       "    <tr>\n",
       "      <th>2</th>\n",
       "      <td>4.247972</td>\n",
       "      <td>569231.357090</td>\n",
       "      <td>2.280207e+09</td>\n",
       "    </tr>\n",
       "  </tbody>\n",
       "</table>\n",
       "</div>"
      ],
      "text/plain": [
       "         Session Frequency  Session Duration    Total Data\n",
       "Cluster                                                   \n",
       "0                 1.042191     106982.428945  4.955011e+08\n",
       "1                 2.175989     213594.500878  1.125319e+09\n",
       "2                 4.247972     569231.357090  2.280207e+09"
      ]
     },
     "execution_count": 23,
     "metadata": {},
     "output_type": "execute_result"
    }
   ],
   "source": [
    "metricDF['Cluster']=KMean_clust.labels_\n",
    "clusteredMean = metricDF.groupby('Cluster').mean()\n",
    "clusteredMean"
   ]
  },
  {
   "cell_type": "code",
   "execution_count": null,
   "id": "e2789bcc",
   "metadata": {},
   "outputs": [],
   "source": []
  },
  {
   "cell_type": "code",
   "execution_count": 24,
   "id": "26ac1ca4",
   "metadata": {},
   "outputs": [
    {
     "data": {
      "text/html": [
       "<div>\n",
       "<style scoped>\n",
       "    .dataframe tbody tr th:only-of-type {\n",
       "        vertical-align: middle;\n",
       "    }\n",
       "\n",
       "    .dataframe tbody tr th {\n",
       "        vertical-align: top;\n",
       "    }\n",
       "\n",
       "    .dataframe thead th {\n",
       "        text-align: right;\n",
       "    }\n",
       "</style>\n",
       "<table border=\"1\" class=\"dataframe\">\n",
       "  <thead>\n",
       "    <tr style=\"text-align: right;\">\n",
       "      <th></th>\n",
       "      <th>google</th>\n",
       "    </tr>\n",
       "    <tr>\n",
       "      <th>MSISDN</th>\n",
       "      <th></th>\n",
       "    </tr>\n",
       "  </thead>\n",
       "  <tbody>\n",
       "    <tr>\n",
       "      <th>3.376053e+10</th>\n",
       "      <td>15528782.0</td>\n",
       "    </tr>\n",
       "    <tr>\n",
       "      <th>3.366249e+10</th>\n",
       "      <td>15517324.0</td>\n",
       "    </tr>\n",
       "    <tr>\n",
       "      <th>3.368482e+10</th>\n",
       "      <td>15508567.0</td>\n",
       "    </tr>\n",
       "    <tr>\n",
       "      <th>3.365113e+10</th>\n",
       "      <td>15507131.0</td>\n",
       "    </tr>\n",
       "    <tr>\n",
       "      <th>3.360993e+10</th>\n",
       "      <td>15506449.0</td>\n",
       "    </tr>\n",
       "    <tr>\n",
       "      <th>3.366356e+10</th>\n",
       "      <td>15506141.0</td>\n",
       "    </tr>\n",
       "    <tr>\n",
       "      <th>3.368841e+10</th>\n",
       "      <td>15493921.0</td>\n",
       "    </tr>\n",
       "    <tr>\n",
       "      <th>3.369997e+10</th>\n",
       "      <td>15483654.0</td>\n",
       "    </tr>\n",
       "    <tr>\n",
       "      <th>3.363264e+10</th>\n",
       "      <td>15481311.0</td>\n",
       "    </tr>\n",
       "    <tr>\n",
       "      <th>3.367154e+10</th>\n",
       "      <td>15479714.0</td>\n",
       "    </tr>\n",
       "  </tbody>\n",
       "</table>\n",
       "</div>"
      ],
      "text/plain": [
       "                  google\n",
       "MSISDN                  \n",
       "3.376053e+10  15528782.0\n",
       "3.366249e+10  15517324.0\n",
       "3.368482e+10  15508567.0\n",
       "3.365113e+10  15507131.0\n",
       "3.360993e+10  15506449.0\n",
       "3.366356e+10  15506141.0\n",
       "3.368841e+10  15493921.0\n",
       "3.369997e+10  15483654.0\n",
       "3.363264e+10  15481311.0\n",
       "3.367154e+10  15479714.0"
      ]
     },
     "execution_count": 24,
     "metadata": {},
     "output_type": "execute_result"
    }
   ],
   "source": [
    "# sum up download and upload data for each application\n",
    "google = dataFrame['Google DL (Bytes)']+ dataFrame['Google UL (Bytes)']\n",
    "email = dataFrame['Email DL (Bytes)']+ dataFrame['Email UL (Bytes)']\n",
    "gaming = dataFrame['Gaming DL (Bytes)']+ dataFrame['Gaming UL (Bytes)']\n",
    "youtube = dataFrame['Youtube DL (Bytes)']+ dataFrame['Youtube UL (Bytes)']\n",
    "netflix = dataFrame['Netflix DL (Bytes)']+ dataFrame['Netflix UL (Bytes)']\n",
    "social = dataFrame['Social Media DL (Bytes)']+ dataFrame['Social Media UL (Bytes)']\n",
    "\n",
    "userEngagementDF['google']=google\n",
    "userEngagementDF['email']=email\n",
    "userEngagementDF['gaming']=gaming\n",
    "userEngagementDF['youtube']=youtube\n",
    "userEngagementDF['netflix']=netflix\n",
    "userEngagementDF['social']=social\n",
    "\n",
    "sumApplicationsDF=userEngagementDF.groupby('MSISDN')[['google','youtube','netflix','social','email','gaming']].sum()\n",
    "sumApplicationsDF[['google']].sort_values(by ='google',ascending=False).head(10)"
   ]
  },
  {
   "cell_type": "code",
   "execution_count": 25,
   "id": "d006ded1",
   "metadata": {},
   "outputs": [
    {
     "data": {
      "text/html": [
       "<div>\n",
       "<style scoped>\n",
       "    .dataframe tbody tr th:only-of-type {\n",
       "        vertical-align: middle;\n",
       "    }\n",
       "\n",
       "    .dataframe tbody tr th {\n",
       "        vertical-align: top;\n",
       "    }\n",
       "\n",
       "    .dataframe thead th {\n",
       "        text-align: right;\n",
       "    }\n",
       "</style>\n",
       "<table border=\"1\" class=\"dataframe\">\n",
       "  <thead>\n",
       "    <tr style=\"text-align: right;\">\n",
       "      <th></th>\n",
       "      <th>youtube</th>\n",
       "    </tr>\n",
       "    <tr>\n",
       "      <th>MSISDN</th>\n",
       "      <th></th>\n",
       "    </tr>\n",
       "  </thead>\n",
       "  <tbody>\n",
       "    <tr>\n",
       "      <th>3.366762e+10</th>\n",
       "      <td>45190078.0</td>\n",
       "    </tr>\n",
       "    <tr>\n",
       "      <th>3.376945e+10</th>\n",
       "      <td>45179008.0</td>\n",
       "    </tr>\n",
       "    <tr>\n",
       "      <th>3.362999e+10</th>\n",
       "      <td>45170035.0</td>\n",
       "    </tr>\n",
       "    <tr>\n",
       "      <th>3.366174e+10</th>\n",
       "      <td>45108826.0</td>\n",
       "    </tr>\n",
       "    <tr>\n",
       "      <th>3.362673e+10</th>\n",
       "      <td>45093369.0</td>\n",
       "    </tr>\n",
       "    <tr>\n",
       "      <th>3.366816e+10</th>\n",
       "      <td>45091533.0</td>\n",
       "    </tr>\n",
       "    <tr>\n",
       "      <th>3.376148e+10</th>\n",
       "      <td>45074469.0</td>\n",
       "    </tr>\n",
       "    <tr>\n",
       "      <th>3.366404e+10</th>\n",
       "      <td>45071796.0</td>\n",
       "    </tr>\n",
       "    <tr>\n",
       "      <th>3.363651e+10</th>\n",
       "      <td>45049792.0</td>\n",
       "    </tr>\n",
       "    <tr>\n",
       "      <th>3.366368e+10</th>\n",
       "      <td>45040169.0</td>\n",
       "    </tr>\n",
       "  </tbody>\n",
       "</table>\n",
       "</div>"
      ],
      "text/plain": [
       "                 youtube\n",
       "MSISDN                  \n",
       "3.366762e+10  45190078.0\n",
       "3.376945e+10  45179008.0\n",
       "3.362999e+10  45170035.0\n",
       "3.366174e+10  45108826.0\n",
       "3.362673e+10  45093369.0\n",
       "3.366816e+10  45091533.0\n",
       "3.376148e+10  45074469.0\n",
       "3.366404e+10  45071796.0\n",
       "3.363651e+10  45049792.0\n",
       "3.366368e+10  45040169.0"
      ]
     },
     "execution_count": 25,
     "metadata": {},
     "output_type": "execute_result"
    }
   ],
   "source": [
    "sumApplicationsDF[['youtube']].sort_values(by ='youtube',ascending=False).head(10)"
   ]
  },
  {
   "cell_type": "code",
   "execution_count": 26,
   "id": "1c268fff",
   "metadata": {},
   "outputs": [
    {
     "data": {
      "text/html": [
       "<div>\n",
       "<style scoped>\n",
       "    .dataframe tbody tr th:only-of-type {\n",
       "        vertical-align: middle;\n",
       "    }\n",
       "\n",
       "    .dataframe tbody tr th {\n",
       "        vertical-align: top;\n",
       "    }\n",
       "\n",
       "    .dataframe thead th {\n",
       "        text-align: right;\n",
       "    }\n",
       "</style>\n",
       "<table border=\"1\" class=\"dataframe\">\n",
       "  <thead>\n",
       "    <tr style=\"text-align: right;\">\n",
       "      <th></th>\n",
       "      <th>email</th>\n",
       "    </tr>\n",
       "    <tr>\n",
       "      <th>MSISDN</th>\n",
       "      <th></th>\n",
       "    </tr>\n",
       "  </thead>\n",
       "  <tbody>\n",
       "    <tr>\n",
       "      <th>3.366137e+10</th>\n",
       "      <td>4518036.0</td>\n",
       "    </tr>\n",
       "    <tr>\n",
       "      <th>3.369935e+10</th>\n",
       "      <td>4513579.0</td>\n",
       "    </tr>\n",
       "    <tr>\n",
       "      <th>3.362843e+10</th>\n",
       "      <td>4513000.0</td>\n",
       "    </tr>\n",
       "    <tr>\n",
       "      <th>3.366468e+10</th>\n",
       "      <td>4512730.0</td>\n",
       "    </tr>\n",
       "    <tr>\n",
       "      <th>3.365267e+10</th>\n",
       "      <td>4510915.0</td>\n",
       "    </tr>\n",
       "    <tr>\n",
       "      <th>3.378103e+10</th>\n",
       "      <td>4510178.0</td>\n",
       "    </tr>\n",
       "    <tr>\n",
       "      <th>3.368142e+10</th>\n",
       "      <td>4507049.0</td>\n",
       "    </tr>\n",
       "    <tr>\n",
       "      <th>3.366147e+10</th>\n",
       "      <td>4504056.0</td>\n",
       "    </tr>\n",
       "    <tr>\n",
       "      <th>3.376363e+10</th>\n",
       "      <td>4502041.0</td>\n",
       "    </tr>\n",
       "    <tr>\n",
       "      <th>3.366009e+10</th>\n",
       "      <td>4499429.0</td>\n",
       "    </tr>\n",
       "  </tbody>\n",
       "</table>\n",
       "</div>"
      ],
      "text/plain": [
       "                  email\n",
       "MSISDN                 \n",
       "3.366137e+10  4518036.0\n",
       "3.369935e+10  4513579.0\n",
       "3.362843e+10  4513000.0\n",
       "3.366468e+10  4512730.0\n",
       "3.365267e+10  4510915.0\n",
       "3.378103e+10  4510178.0\n",
       "3.368142e+10  4507049.0\n",
       "3.366147e+10  4504056.0\n",
       "3.376363e+10  4502041.0\n",
       "3.366009e+10  4499429.0"
      ]
     },
     "execution_count": 26,
     "metadata": {},
     "output_type": "execute_result"
    }
   ],
   "source": [
    "sumApplicationsDF[['email']].sort_values(by ='email',ascending=False).head(10)"
   ]
  },
  {
   "cell_type": "code",
   "execution_count": 27,
   "id": "cb9891ff",
   "metadata": {},
   "outputs": [
    {
     "data": {
      "text/html": [
       "<div>\n",
       "<style scoped>\n",
       "    .dataframe tbody tr th:only-of-type {\n",
       "        vertical-align: middle;\n",
       "    }\n",
       "\n",
       "    .dataframe tbody tr th {\n",
       "        vertical-align: top;\n",
       "    }\n",
       "\n",
       "    .dataframe thead th {\n",
       "        text-align: right;\n",
       "    }\n",
       "</style>\n",
       "<table border=\"1\" class=\"dataframe\">\n",
       "  <thead>\n",
       "    <tr style=\"text-align: right;\">\n",
       "      <th></th>\n",
       "      <th>netflix</th>\n",
       "    </tr>\n",
       "    <tr>\n",
       "      <th>MSISDN</th>\n",
       "      <th></th>\n",
       "    </tr>\n",
       "  </thead>\n",
       "  <tbody>\n",
       "    <tr>\n",
       "      <th>3.366548e+10</th>\n",
       "      <td>45198153.0</td>\n",
       "    </tr>\n",
       "    <tr>\n",
       "      <th>3.366009e+10</th>\n",
       "      <td>45110360.0</td>\n",
       "    </tr>\n",
       "    <tr>\n",
       "      <th>3.365071e+10</th>\n",
       "      <td>45064738.0</td>\n",
       "    </tr>\n",
       "    <tr>\n",
       "      <th>3.366965e+10</th>\n",
       "      <td>45054355.0</td>\n",
       "    </tr>\n",
       "    <tr>\n",
       "      <th>3.366436e+10</th>\n",
       "      <td>45012951.0</td>\n",
       "    </tr>\n",
       "    <tr>\n",
       "      <th>3.366402e+10</th>\n",
       "      <td>44998954.0</td>\n",
       "    </tr>\n",
       "    <tr>\n",
       "      <th>3.363673e+10</th>\n",
       "      <td>44983646.0</td>\n",
       "    </tr>\n",
       "    <tr>\n",
       "      <th>3.369879e+10</th>\n",
       "      <td>44970634.0</td>\n",
       "    </tr>\n",
       "    <tr>\n",
       "      <th>3.365096e+10</th>\n",
       "      <td>44915543.0</td>\n",
       "    </tr>\n",
       "    <tr>\n",
       "      <th>3.361276e+10</th>\n",
       "      <td>44903323.0</td>\n",
       "    </tr>\n",
       "  </tbody>\n",
       "</table>\n",
       "</div>"
      ],
      "text/plain": [
       "                 netflix\n",
       "MSISDN                  \n",
       "3.366548e+10  45198153.0\n",
       "3.366009e+10  45110360.0\n",
       "3.365071e+10  45064738.0\n",
       "3.366965e+10  45054355.0\n",
       "3.366436e+10  45012951.0\n",
       "3.366402e+10  44998954.0\n",
       "3.363673e+10  44983646.0\n",
       "3.369879e+10  44970634.0\n",
       "3.365096e+10  44915543.0\n",
       "3.361276e+10  44903323.0"
      ]
     },
     "execution_count": 27,
     "metadata": {},
     "output_type": "execute_result"
    }
   ],
   "source": [
    "sumApplicationsDF[['netflix']].sort_values(by ='netflix',ascending=False).head(10)"
   ]
  },
  {
   "cell_type": "code",
   "execution_count": null,
   "id": "278e93ba",
   "metadata": {},
   "outputs": [],
   "source": []
  },
  {
   "cell_type": "markdown",
   "id": "825bee65",
   "metadata": {},
   "source": [
    "  ### the top 3 most used applications"
   ]
  },
  {
   "cell_type": "code",
   "execution_count": 28,
   "id": "2d84834c",
   "metadata": {},
   "outputs": [
    {
     "data": {
      "text/plain": [
       "Text(0.5, 1.0, 'Top 3 Most Used Applications')"
      ]
     },
     "execution_count": 28,
     "metadata": {},
     "output_type": "execute_result"
    },
    {
     "data": {
      "image/png": "[encoded data removed]",
      "text/plain": [
       "<Figure size 432x288 with 1 Axes>"
      ]
     },
     "metadata": {
      "needs_background": "light"
     },
     "output_type": "display_data"
    }
   ],
   "source": [
    "sumApplicationsDF=userEngagementDF.groupby('MSISDN')[['google','youtube','netflix','social','email','gaming']].sum()\n",
    "largestApps=sumApplicationsDF[['google','youtube','netflix','social','email','gaming']].sum().nlargest(3)\n",
    "ax=sns.barplot(largestApps.index, largestApps.values)\n",
    "ax.set_xlabel('Applications', fontsize=15)\n",
    "ax.set_ylabel('Total Data' , fontsize=15)\n",
    "ax.set_title('Top 3 Most Used Applications', fontsize=15, fontweight='bold')"
   ]
  },
  {
   "cell_type": "code",
   "execution_count": 29,
   "id": "b33565d1",
   "metadata": {},
   "outputs": [],
   "source": [
    "distortions = []\n",
    "K = range(1,10)\n",
    "for k in K:\n",
    "    kmeanModel = KMeans(n_clusters=k)\n",
    "    kmeanModel.fit(normalized)\n",
    "    distortions.append(kmeanModel.inertia_)"
   ]
  },
  {
   "cell_type": "markdown",
   "id": "aeb3be93",
   "metadata": {},
   "source": [
    "  ### distortions shows that the elbow is at x=3. So the optimal number of clusters is 3.¶"
   ]
  },
  {
   "cell_type": "code",
   "execution_count": 31,
   "id": "6d6a45d6",
   "metadata": {},
   "outputs": [
    {
     "data": {
      "image/png": "[encoded data removed]",
      "text/plain": [
       "<Figure size 576x288 with 1 Axes>"
      ]
     },
     "metadata": {
      "needs_background": "light"
     },
     "output_type": "display_data"
    }
   ],
   "source": [
    "plt.figure(figsize=(8,4))\n",
    "plt.plot(K, distortions, 'bx-')\n",
    "plt.xlabel('K')\n",
    "plt.ylabel('Distortion')\n",
    "plt.title('The Elbow Method showing the optimal k')\n",
    "plt.show()"
   ]
  },
  {
   "cell_type": "markdown",
   "id": "d5d092d8",
   "metadata": {},
   "source": [
    "  ### we can conclude that the optimal number of clusters for the data is 3."
   ]
  },
  {
   "cell_type": "markdown",
   "id": "1ff2302f",
   "metadata": {},
   "source": [
    "  ### The cell below runs k-means algoritihm using the optimal number of clusters"
   ]
  },
  {
   "cell_type": "code",
   "execution_count": 32,
   "id": "a79b7918",
   "metadata": {},
   "outputs": [
    {
     "data": {
      "text/html": [
       "<div>\n",
       "<style scoped>\n",
       "    .dataframe tbody tr th:only-of-type {\n",
       "        vertical-align: middle;\n",
       "    }\n",
       "\n",
       "    .dataframe tbody tr th {\n",
       "        vertical-align: top;\n",
       "    }\n",
       "\n",
       "    .dataframe thead th {\n",
       "        text-align: right;\n",
       "    }\n",
       "</style>\n",
       "<table border=\"1\" class=\"dataframe\">\n",
       "  <thead>\n",
       "    <tr style=\"text-align: right;\">\n",
       "      <th></th>\n",
       "      <th>Session Frequency</th>\n",
       "      <th>Session Duration</th>\n",
       "      <th>Total Data</th>\n",
       "      <th>Cluster</th>\n",
       "      <th>MSISDN</th>\n",
       "    </tr>\n",
       "  </thead>\n",
       "  <tbody>\n",
       "    <tr>\n",
       "      <th>0</th>\n",
       "      <td>0.000000</td>\n",
       "      <td>0.005908</td>\n",
       "      <td>0.095931</td>\n",
       "      <td>0</td>\n",
       "      <td>3.360100e+10</td>\n",
       "    </tr>\n",
       "    <tr>\n",
       "      <th>1</th>\n",
       "      <td>0.000000</td>\n",
       "      <td>0.009387</td>\n",
       "      <td>0.014026</td>\n",
       "      <td>0</td>\n",
       "      <td>3.360100e+10</td>\n",
       "    </tr>\n",
       "    <tr>\n",
       "      <th>2</th>\n",
       "      <td>0.000000</td>\n",
       "      <td>0.006892</td>\n",
       "      <td>0.063851</td>\n",
       "      <td>0</td>\n",
       "      <td>3.360100e+10</td>\n",
       "    </tr>\n",
       "    <tr>\n",
       "      <th>3</th>\n",
       "      <td>0.000000</td>\n",
       "      <td>0.002304</td>\n",
       "      <td>0.044148</td>\n",
       "      <td>0</td>\n",
       "      <td>3.360101e+10</td>\n",
       "    </tr>\n",
       "    <tr>\n",
       "      <th>4</th>\n",
       "      <td>0.058824</td>\n",
       "      <td>0.001615</td>\n",
       "      <td>0.161598</td>\n",
       "      <td>1</td>\n",
       "      <td>3.360101e+10</td>\n",
       "    </tr>\n",
       "    <tr>\n",
       "      <th>...</th>\n",
       "      <td>...</td>\n",
       "      <td>...</td>\n",
       "      <td>...</td>\n",
       "      <td>...</td>\n",
       "      <td>...</td>\n",
       "    </tr>\n",
       "    <tr>\n",
       "      <th>106851</th>\n",
       "      <td>0.000000</td>\n",
       "      <td>0.000090</td>\n",
       "      <td>0.077317</td>\n",
       "      <td>0</td>\n",
       "      <td>3.379000e+10</td>\n",
       "    </tr>\n",
       "    <tr>\n",
       "      <th>106852</th>\n",
       "      <td>0.000000</td>\n",
       "      <td>0.007217</td>\n",
       "      <td>0.050727</td>\n",
       "      <td>0</td>\n",
       "      <td>3.379000e+10</td>\n",
       "    </tr>\n",
       "    <tr>\n",
       "      <th>106853</th>\n",
       "      <td>0.000000</td>\n",
       "      <td>0.046922</td>\n",
       "      <td>0.022566</td>\n",
       "      <td>0</td>\n",
       "      <td>3.197021e+12</td>\n",
       "    </tr>\n",
       "    <tr>\n",
       "      <th>106854</th>\n",
       "      <td>0.000000</td>\n",
       "      <td>0.013258</td>\n",
       "      <td>0.063887</td>\n",
       "      <td>0</td>\n",
       "      <td>3.370000e+14</td>\n",
       "    </tr>\n",
       "    <tr>\n",
       "      <th>106855</th>\n",
       "      <td>0.000000</td>\n",
       "      <td>0.046515</td>\n",
       "      <td>0.012017</td>\n",
       "      <td>0</td>\n",
       "      <td>8.823971e+14</td>\n",
       "    </tr>\n",
       "  </tbody>\n",
       "</table>\n",
       "<p>106856 rows × 5 columns</p>\n",
       "</div>"
      ],
      "text/plain": [
       "        Session Frequency  Session Duration  Total Data  Cluster        MSISDN\n",
       "0                0.000000          0.005908    0.095931        0  3.360100e+10\n",
       "1                0.000000          0.009387    0.014026        0  3.360100e+10\n",
       "2                0.000000          0.006892    0.063851        0  3.360100e+10\n",
       "3                0.000000          0.002304    0.044148        0  3.360101e+10\n",
       "4                0.058824          0.001615    0.161598        1  3.360101e+10\n",
       "...                   ...               ...         ...      ...           ...\n",
       "106851           0.000000          0.000090    0.077317        0  3.379000e+10\n",
       "106852           0.000000          0.007217    0.050727        0  3.379000e+10\n",
       "106853           0.000000          0.046922    0.022566        0  3.197021e+12\n",
       "106854           0.000000          0.013258    0.063887        0  3.370000e+14\n",
       "106855           0.000000          0.046515    0.012017        0  8.823971e+14\n",
       "\n",
       "[106856 rows x 5 columns]"
      ]
     },
     "execution_count": 32,
     "metadata": {},
     "output_type": "execute_result"
    }
   ],
   "source": [
    "kmeanModel = KMeans(n_clusters=k)\n",
    "kmeanModel.fit(normalized)\n",
    "normalized['Cluster']= KMean_clust.labels_\n",
    "normalized"
   ]
  },
  {
   "cell_type": "code",
   "execution_count": 33,
   "id": "c326549a",
   "metadata": {},
   "outputs": [
    {
     "data": {
      "text/plain": [
       "0    81155\n",
       "1    21632\n",
       "2     4069\n",
       "Name: Cluster, dtype: int64"
      ]
     },
     "execution_count": 33,
     "metadata": {},
     "output_type": "execute_result"
    },
    {
     "data": {
      "image/png": "[encoded data removed]",
      "text/plain": [
       "<Figure size 432x288 with 1 Axes>"
      ]
     },
     "metadata": {
      "needs_background": "light"
     },
     "output_type": "display_data"
    }
   ],
   "source": [
    "clusteredDF=normalized['Cluster'].value_counts()\n",
    "ax=sns.barplot(clusteredDF.index, clusteredDF.values)\n",
    "ax.set_xlabel('Clusters', fontsize=15)\n",
    "ax.set_ylabel('Number of Users' , fontsize=15)\n",
    "ax.set_title('Count of each cluster', fontsize=15, fontweight='bold')\n",
    "clusteredDF"
   ]
  },
  {
   "cell_type": "code",
   "execution_count": null,
   "id": "79a22350",
   "metadata": {},
   "outputs": [],
   "source": []
  }
 ],
 "metadata": {
  "kernelspec": {
   "display_name": "Python 3",
   "language": "python",
   "name": "python3"
  },
  "language_info": {
   "codemirror_mode": {
    "name": "ipython",
    "version": 3
   },
   "file_extension": ".py",
   "mimetype": "text/x-python",
   "name": "python",
   "nbconvert_exporter": "python",
   "pygments_lexer": "ipython3",
   "version": "3.9.1"
  }
 },
 "nbformat": 4,
 "nbformat_minor": 5
}
