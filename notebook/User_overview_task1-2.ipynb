{
 "cells": [
  {
   "cell_type": "markdown",
   "id": "cc388690",
   "metadata": {},
   "source": [
    "### Importing libraries"
   ]
  },
  {
   "cell_type": "code",
   "execution_count": 94,
   "id": "0e422e59",
   "metadata": {},
   "outputs": [],
   "source": [
    "import pandas as pd\n",
    "import numpy as np\n",
    "import seaborn as sns\n",
    "import matplotlib.pyplot as plt\n",
    "%matplotlib inline"
   ]
  },
  {
   "cell_type": "markdown",
   "id": "596598f8",
   "metadata": {},
   "source": [
    "### Ignoring warnings"
   ]
  },
  {
   "cell_type": "code",
   "execution_count": 95,
   "id": "8edf6c25",
   "metadata": {},
   "outputs": [],
   "source": [
    "import warnings\n",
    "warnings.filterwarnings('ignore')"
   ]
  },
  {
   "cell_type": "markdown",
   "id": "a4a78093",
   "metadata": {},
   "source": [
    "### Extracting the data"
   ]
  },
  {
   "cell_type": "code",
   "execution_count": 96,
   "id": "2349bf6d",
   "metadata": {},
   "outputs": [
    {
     "data": {
      "text/html": [
       "<div>\n",
       "<style scoped>\n",
       "    .dataframe tbody tr th:only-of-type {\n",
       "        vertical-align: middle;\n",
       "    }\n",
       "\n",
       "    .dataframe tbody tr th {\n",
       "        vertical-align: top;\n",
       "    }\n",
       "\n",
       "    .dataframe thead th {\n",
       "        text-align: right;\n",
       "    }\n",
       "</style>\n",
       "<table border=\"1\" class=\"dataframe\">\n",
       "  <thead>\n",
       "    <tr style=\"text-align: right;\">\n",
       "      <th></th>\n",
       "      <th>Bearer Id</th>\n",
       "      <th>Start</th>\n",
       "      <th>Start ms</th>\n",
       "      <th>End</th>\n",
       "      <th>End ms</th>\n",
       "      <th>Dur. (ms)</th>\n",
       "      <th>IMSI</th>\n",
       "      <th>MSISDN/Number</th>\n",
       "      <th>IMEI</th>\n",
       "      <th>Last Location Name</th>\n",
       "      <th>...</th>\n",
       "      <th>Youtube DL (Bytes)</th>\n",
       "      <th>Youtube UL (Bytes)</th>\n",
       "      <th>Netflix DL (Bytes)</th>\n",
       "      <th>Netflix UL (Bytes)</th>\n",
       "      <th>Gaming DL (Bytes)</th>\n",
       "      <th>Gaming UL (Bytes)</th>\n",
       "      <th>Other DL (Bytes)</th>\n",
       "      <th>Other UL (Bytes)</th>\n",
       "      <th>Total UL (Bytes)</th>\n",
       "      <th>Total DL (Bytes)</th>\n",
       "    </tr>\n",
       "  </thead>\n",
       "  <tbody>\n",
       "    <tr>\n",
       "      <th>0</th>\n",
       "      <td>1.311448e+19</td>\n",
       "      <td>4/4/2019 12:01</td>\n",
       "      <td>770.0</td>\n",
       "      <td>4/25/2019 14:35</td>\n",
       "      <td>662.0</td>\n",
       "      <td>1823652.0</td>\n",
       "      <td>2.082014e+14</td>\n",
       "      <td>3.366496e+10</td>\n",
       "      <td>3.552121e+13</td>\n",
       "      <td>9.16456699548519E+015</td>\n",
       "      <td>...</td>\n",
       "      <td>15854611.0</td>\n",
       "      <td>2501332.0</td>\n",
       "      <td>8198936.0</td>\n",
       "      <td>9656251.0</td>\n",
       "      <td>278082303.0</td>\n",
       "      <td>14344150.0</td>\n",
       "      <td>171744450.0</td>\n",
       "      <td>8814393.0</td>\n",
       "      <td>36749741.0</td>\n",
       "      <td>308879636.0</td>\n",
       "    </tr>\n",
       "    <tr>\n",
       "      <th>1</th>\n",
       "      <td>1.311448e+19</td>\n",
       "      <td>4/9/2019 13:04</td>\n",
       "      <td>235.0</td>\n",
       "      <td>4/25/2019 8:15</td>\n",
       "      <td>606.0</td>\n",
       "      <td>1365104.0</td>\n",
       "      <td>2.082019e+14</td>\n",
       "      <td>3.368185e+10</td>\n",
       "      <td>3.579401e+13</td>\n",
       "      <td>L77566A</td>\n",
       "      <td>...</td>\n",
       "      <td>20247395.0</td>\n",
       "      <td>19111729.0</td>\n",
       "      <td>18338413.0</td>\n",
       "      <td>17227132.0</td>\n",
       "      <td>608750074.0</td>\n",
       "      <td>1170709.0</td>\n",
       "      <td>526904238.0</td>\n",
       "      <td>15055145.0</td>\n",
       "      <td>53800391.0</td>\n",
       "      <td>653384965.0</td>\n",
       "    </tr>\n",
       "    <tr>\n",
       "      <th>2</th>\n",
       "      <td>1.311448e+19</td>\n",
       "      <td>4/9/2019 17:42</td>\n",
       "      <td>1.0</td>\n",
       "      <td>4/25/2019 11:58</td>\n",
       "      <td>652.0</td>\n",
       "      <td>1361762.0</td>\n",
       "      <td>2.082003e+14</td>\n",
       "      <td>3.376063e+10</td>\n",
       "      <td>3.528151e+13</td>\n",
       "      <td>D42335A</td>\n",
       "      <td>...</td>\n",
       "      <td>19725661.0</td>\n",
       "      <td>14699576.0</td>\n",
       "      <td>17587794.0</td>\n",
       "      <td>6163408.0</td>\n",
       "      <td>229584621.0</td>\n",
       "      <td>395630.0</td>\n",
       "      <td>410692588.0</td>\n",
       "      <td>4215763.0</td>\n",
       "      <td>27883638.0</td>\n",
       "      <td>279807335.0</td>\n",
       "    </tr>\n",
       "    <tr>\n",
       "      <th>3</th>\n",
       "      <td>1.311448e+19</td>\n",
       "      <td>4/10/2019 0:31</td>\n",
       "      <td>486.0</td>\n",
       "      <td>4/25/2019 7:36</td>\n",
       "      <td>171.0</td>\n",
       "      <td>1321509.0</td>\n",
       "      <td>2.082014e+14</td>\n",
       "      <td>3.375034e+10</td>\n",
       "      <td>3.535661e+13</td>\n",
       "      <td>T21824A</td>\n",
       "      <td>...</td>\n",
       "      <td>21388122.0</td>\n",
       "      <td>15146643.0</td>\n",
       "      <td>13994646.0</td>\n",
       "      <td>1097942.0</td>\n",
       "      <td>799538153.0</td>\n",
       "      <td>10849722.0</td>\n",
       "      <td>749039933.0</td>\n",
       "      <td>12797283.0</td>\n",
       "      <td>43324218.0</td>\n",
       "      <td>846028530.0</td>\n",
       "    </tr>\n",
       "    <tr>\n",
       "      <th>4</th>\n",
       "      <td>1.311448e+19</td>\n",
       "      <td>4/12/2019 20:10</td>\n",
       "      <td>565.0</td>\n",
       "      <td>4/25/2019 10:40</td>\n",
       "      <td>954.0</td>\n",
       "      <td>1089009.0</td>\n",
       "      <td>2.082014e+14</td>\n",
       "      <td>3.369980e+10</td>\n",
       "      <td>3.540701e+13</td>\n",
       "      <td>D88865A</td>\n",
       "      <td>...</td>\n",
       "      <td>15259380.0</td>\n",
       "      <td>18962873.0</td>\n",
       "      <td>17124581.0</td>\n",
       "      <td>415218.0</td>\n",
       "      <td>527707248.0</td>\n",
       "      <td>3529801.0</td>\n",
       "      <td>550709500.0</td>\n",
       "      <td>13910322.0</td>\n",
       "      <td>38542814.0</td>\n",
       "      <td>569138589.0</td>\n",
       "    </tr>\n",
       "  </tbody>\n",
       "</table>\n",
       "<p>5 rows × 55 columns</p>\n",
       "</div>"
      ],
      "text/plain": [
       "      Bearer Id            Start  Start ms              End  End ms  \\\n",
       "0  1.311448e+19   4/4/2019 12:01     770.0  4/25/2019 14:35   662.0   \n",
       "1  1.311448e+19   4/9/2019 13:04     235.0   4/25/2019 8:15   606.0   \n",
       "2  1.311448e+19   4/9/2019 17:42       1.0  4/25/2019 11:58   652.0   \n",
       "3  1.311448e+19   4/10/2019 0:31     486.0   4/25/2019 7:36   171.0   \n",
       "4  1.311448e+19  4/12/2019 20:10     565.0  4/25/2019 10:40   954.0   \n",
       "\n",
       "   Dur. (ms)          IMSI  MSISDN/Number          IMEI  \\\n",
       "0  1823652.0  2.082014e+14   3.366496e+10  3.552121e+13   \n",
       "1  1365104.0  2.082019e+14   3.368185e+10  3.579401e+13   \n",
       "2  1361762.0  2.082003e+14   3.376063e+10  3.528151e+13   \n",
       "3  1321509.0  2.082014e+14   3.375034e+10  3.535661e+13   \n",
       "4  1089009.0  2.082014e+14   3.369980e+10  3.540701e+13   \n",
       "\n",
       "      Last Location Name  ...  Youtube DL (Bytes)  Youtube UL (Bytes)  \\\n",
       "0  9.16456699548519E+015  ...          15854611.0           2501332.0   \n",
       "1                L77566A  ...          20247395.0          19111729.0   \n",
       "2                D42335A  ...          19725661.0          14699576.0   \n",
       "3                T21824A  ...          21388122.0          15146643.0   \n",
       "4                D88865A  ...          15259380.0          18962873.0   \n",
       "\n",
       "   Netflix DL (Bytes)  Netflix UL (Bytes)  Gaming DL (Bytes)  \\\n",
       "0           8198936.0           9656251.0        278082303.0   \n",
       "1          18338413.0          17227132.0        608750074.0   \n",
       "2          17587794.0           6163408.0        229584621.0   \n",
       "3          13994646.0           1097942.0        799538153.0   \n",
       "4          17124581.0            415218.0        527707248.0   \n",
       "\n",
       "   Gaming UL (Bytes)  Other DL (Bytes)  Other UL (Bytes)  Total UL (Bytes)  \\\n",
       "0         14344150.0       171744450.0         8814393.0        36749741.0   \n",
       "1          1170709.0       526904238.0        15055145.0        53800391.0   \n",
       "2           395630.0       410692588.0         4215763.0        27883638.0   \n",
       "3         10849722.0       749039933.0        12797283.0        43324218.0   \n",
       "4          3529801.0       550709500.0        13910322.0        38542814.0   \n",
       "\n",
       "   Total DL (Bytes)  \n",
       "0       308879636.0  \n",
       "1       653384965.0  \n",
       "2       279807335.0  \n",
       "3       846028530.0  \n",
       "4       569138589.0  \n",
       "\n",
       "[5 rows x 55 columns]"
      ]
     },
     "execution_count": 96,
     "metadata": {},
     "output_type": "execute_result"
    }
   ],
   "source": [
    "dataFrame = pd.read_csv('../data/week1_challenge.csv', na_values=['?', None])\n",
    "dataFrame.head()"
   ]
  },
  {
   "cell_type": "code",
   "execution_count": 97,
   "id": "32f7d75a",
   "metadata": {},
   "outputs": [
    {
     "name": "stdout",
     "output_type": "stream",
     "text": [
      " There are 150001 rows and 55 columns\n"
     ]
    }
   ],
   "source": [
    "# number of data points\n",
    "print(f\" There are {dataFrame.shape[0]} rows and {dataFrame.shape[1]} columns\")"
   ]
  },
  {
   "cell_type": "markdown",
   "id": "b49bf30f",
   "metadata": {},
   "source": [
    "# checking missing values"
   ]
  },
  {
   "cell_type": "code",
   "execution_count": 98,
   "id": "03a37800",
   "metadata": {},
   "outputs": [
    {
     "name": "stdout",
     "output_type": "stream",
     "text": [
      "The Tellco dataset contains 12.5 % missing values.\n"
     ]
    }
   ],
   "source": [
    "# how many missing values exist or better still what is the % of missing values in the dataset?\n",
    "def percent_missing(df):\n",
    "\n",
    "    # Calculate total number of cells in dataframe\n",
    "    totalCells = np.product(dataFrame.shape)\n",
    "\n",
    "    # Count number of missing values per column\n",
    "    missingCount = dataFrame.isnull().sum()\n",
    "\n",
    "    # Calculate total number of missing values\n",
    "    totalMissing = missingCount.sum()\n",
    "\n",
    "    # Calculate percentage of missing values\n",
    "    print(\"The Tellco dataset contains\", round(((totalMissing/totalCells) * 100), 2), \"%\", \"missing values.\")\n",
    "\n",
    "percent_missing(dataFrame)"
   ]
  },
  {
   "cell_type": "markdown",
   "id": "17f34e2a",
   "metadata": {},
   "source": [
    "# as we see above I have 12.5% of missing values in the dataset"
   ]
  },
  {
   "cell_type": "code",
   "execution_count": 99,
   "id": "b0ec3682",
   "metadata": {},
   "outputs": [
    {
     "data": {
      "text/plain": [
       "Bearer Id                                      991\n",
       "Start                                            1\n",
       "Start ms                                         1\n",
       "End                                              1\n",
       "End ms                                           1\n",
       "Dur. (ms)                                        1\n",
       "IMSI                                           570\n",
       "MSISDN/Number                                 1066\n",
       "IMEI                                           572\n",
       "Last Location Name                            1153\n",
       "Avg RTT DL (ms)                              27829\n",
       "Avg RTT UL (ms)                              27812\n",
       "Avg Bearer TP DL (kbps)                          1\n",
       "Avg Bearer TP UL (kbps)                          1\n",
       "TCP DL Retrans. Vol (Bytes)                  88146\n",
       "TCP UL Retrans. Vol (Bytes)                  96649\n",
       "DL TP < 50 Kbps (%)                            754\n",
       "50 Kbps < DL TP < 250 Kbps (%)                 754\n",
       "250 Kbps < DL TP < 1 Mbps (%)                  754\n",
       "DL TP > 1 Mbps (%)                             754\n",
       "UL TP < 10 Kbps (%)                            792\n",
       "10 Kbps < UL TP < 50 Kbps (%)                  792\n",
       "50 Kbps < UL TP < 300 Kbps (%)                 792\n",
       "UL TP > 300 Kbps (%)                           792\n",
       "HTTP DL (Bytes)                              81474\n",
       "HTTP UL (Bytes)                              81810\n",
       "Activity Duration DL (ms)                        1\n",
       "Activity Duration UL (ms)                        1\n",
       "Dur. (ms).1                                      1\n",
       "Handset Manufacturer                           572\n",
       "Handset Type                                   572\n",
       "Nb of sec with 125000B < Vol DL              97538\n",
       "Nb of sec with 1250B < Vol UL < 6250B        92894\n",
       "Nb of sec with 31250B < Vol DL < 125000B     93586\n",
       "Nb of sec with 37500B < Vol UL              130254\n",
       "Nb of sec with 6250B < Vol DL < 31250B       88317\n",
       "Nb of sec with 6250B < Vol UL < 37500B      111843\n",
       "Nb of sec with Vol DL < 6250B                  755\n",
       "Nb of sec with Vol UL < 1250B                  793\n",
       "Social Media DL (Bytes)                          0\n",
       "Social Media UL (Bytes)                          0\n",
       "Google DL (Bytes)                                0\n",
       "Google UL (Bytes)                                0\n",
       "Email DL (Bytes)                                 0\n",
       "Email UL (Bytes)                                 0\n",
       "Youtube DL (Bytes)                               0\n",
       "Youtube UL (Bytes)                               0\n",
       "Netflix DL (Bytes)                               0\n",
       "Netflix UL (Bytes)                               0\n",
       "Gaming DL (Bytes)                                0\n",
       "Gaming UL (Bytes)                                0\n",
       "Other DL (Bytes)                                 0\n",
       "Other UL (Bytes)                                 0\n",
       "Total UL (Bytes)                                 1\n",
       "Total DL (Bytes)                                 1\n",
       "dtype: int64"
      ]
     },
     "execution_count": 99,
     "metadata": {},
     "output_type": "execute_result"
    }
   ],
   "source": [
    "#inorder to get which columns has missing value\n",
    "missing_value=dataFrame.isna().sum()\n",
    "missing_value"
   ]
  },
  {
   "cell_type": "markdown",
   "id": "4bca0b69",
   "metadata": {},
   "source": [
    "# from the above I Listed out the missing values in each columns"
   ]
  },
  {
   "cell_type": "code",
   "execution_count": 100,
   "id": "522a0ebb",
   "metadata": {},
   "outputs": [
    {
     "name": "stdout",
     "output_type": "stream",
     "text": [
      "Your selected dataframe has 55 columns.\n",
      "There are 41 columns that have missing values.\n",
      "                                          Missing Values  % of Total Values  \\\n",
      "Nb of sec with 37500B < Vol UL                    130254               86.8   \n",
      "Nb of sec with 6250B < Vol UL < 37500B            111843               74.6   \n",
      "Nb of sec with 125000B < Vol DL                    97538               65.0   \n",
      "TCP UL Retrans. Vol (Bytes)                        96649               64.4   \n",
      "Nb of sec with 31250B < Vol DL < 125000B           93586               62.4   \n",
      "Nb of sec with 1250B < Vol UL < 6250B              92894               61.9   \n",
      "Nb of sec with 6250B < Vol DL < 31250B             88317               58.9   \n",
      "TCP DL Retrans. Vol (Bytes)                        88146               58.8   \n",
      "HTTP UL (Bytes)                                    81810               54.5   \n",
      "HTTP DL (Bytes)                                    81474               54.3   \n",
      "Avg RTT DL (ms)                                    27829               18.6   \n",
      "Avg RTT UL (ms)                                    27812               18.5   \n",
      "Last Location Name                                  1153                0.8   \n",
      "MSISDN/Number                                       1066                0.7   \n",
      "Bearer Id                                            991                0.7   \n",
      "Nb of sec with Vol UL < 1250B                        793                0.5   \n",
      "10 Kbps < UL TP < 50 Kbps (%)                        792                0.5   \n",
      "UL TP > 300 Kbps (%)                                 792                0.5   \n",
      "50 Kbps < UL TP < 300 Kbps (%)                       792                0.5   \n",
      "UL TP < 10 Kbps (%)                                  792                0.5   \n",
      "Nb of sec with Vol DL < 6250B                        755                0.5   \n",
      "250 Kbps < DL TP < 1 Mbps (%)                        754                0.5   \n",
      "50 Kbps < DL TP < 250 Kbps (%)                       754                0.5   \n",
      "DL TP < 50 Kbps (%)                                  754                0.5   \n",
      "DL TP > 1 Mbps (%)                                   754                0.5   \n",
      "Handset Type                                         572                0.4   \n",
      "Handset Manufacturer                                 572                0.4   \n",
      "IMEI                                                 572                0.4   \n",
      "IMSI                                                 570                0.4   \n",
      "Dur. (ms)                                              1                0.0   \n",
      "Total UL (Bytes)                                       1                0.0   \n",
      "Start ms                                               1                0.0   \n",
      "End                                                    1                0.0   \n",
      "End ms                                                 1                0.0   \n",
      "Start                                                  1                0.0   \n",
      "Avg Bearer TP DL (kbps)                                1                0.0   \n",
      "Dur. (ms).1                                            1                0.0   \n",
      "Activity Duration UL (ms)                              1                0.0   \n",
      "Activity Duration DL (ms)                              1                0.0   \n",
      "Avg Bearer TP UL (kbps)                                1                0.0   \n",
      "Total DL (Bytes)                                       1                0.0   \n",
      "\n",
      "                                            Dtype  \n",
      "Nb of sec with 37500B < Vol UL            float64  \n",
      "Nb of sec with 6250B < Vol UL < 37500B    float64  \n",
      "Nb of sec with 125000B < Vol DL           float64  \n",
      "TCP UL Retrans. Vol (Bytes)               float64  \n",
      "Nb of sec with 31250B < Vol DL < 125000B  float64  \n",
      "Nb of sec with 1250B < Vol UL < 6250B     float64  \n",
      "Nb of sec with 6250B < Vol DL < 31250B    float64  \n",
      "TCP DL Retrans. Vol (Bytes)               float64  \n",
      "HTTP UL (Bytes)                           float64  \n",
      "HTTP DL (Bytes)                           float64  \n",
      "Avg RTT DL (ms)                           float64  \n",
      "Avg RTT UL (ms)                           float64  \n",
      "Last Location Name                         object  \n",
      "MSISDN/Number                             float64  \n",
      "Bearer Id                                 float64  \n",
      "Nb of sec with Vol UL < 1250B             float64  \n",
      "10 Kbps < UL TP < 50 Kbps (%)             float64  \n",
      "UL TP > 300 Kbps (%)                      float64  \n",
      "50 Kbps < UL TP < 300 Kbps (%)            float64  \n",
      "UL TP < 10 Kbps (%)                       float64  \n",
      "Nb of sec with Vol DL < 6250B             float64  \n",
      "250 Kbps < DL TP < 1 Mbps (%)             float64  \n",
      "50 Kbps < DL TP < 250 Kbps (%)            float64  \n",
      "DL TP < 50 Kbps (%)                       float64  \n",
      "DL TP > 1 Mbps (%)                        float64  \n",
      "Handset Type                               object  \n",
      "Handset Manufacturer                       object  \n",
      "IMEI                                      float64  \n",
      "IMSI                                      float64  \n",
      "Dur. (ms)                                 float64  \n",
      "Total UL (Bytes)                          float64  \n",
      "Start ms                                  float64  \n",
      "End                                        object  \n",
      "End ms                                    float64  \n",
      "Start                                      object  \n",
      "Avg Bearer TP DL (kbps)                   float64  \n",
      "Dur. (ms).1                               float64  \n",
      "Activity Duration UL (ms)                 float64  \n",
      "Activity Duration DL (ms)                 float64  \n",
      "Avg Bearer TP UL (kbps)                   float64  \n",
      "Total DL (Bytes)                          float64  \n"
     ]
    }
   ],
   "source": [
    "# Function to calculate missing values by column\n",
    "def missing_values_table(df):\n",
    "    # Total missing values\n",
    "    mis_val = dataFrame.isnull().sum()\n",
    "\n",
    "    # Percentage of missing values\n",
    "    mis_val_percent = 100 * dataFrame.isnull().sum() / len(df)\n",
    "\n",
    "    # dtype of missing values\n",
    "    mis_val_dtype = dataFrame.dtypes\n",
    "\n",
    "    # Make a table with the results\n",
    "    mis_val_table = pd.concat([mis_val, mis_val_percent, mis_val_dtype], axis=1)\n",
    "\n",
    "    # Rename the columns\n",
    "    mis_val_table_ren_columns = mis_val_table.rename(\n",
    "    columns = {0 : 'Missing Values', 1 : '% of Total Values', 2: 'Dtype'})\n",
    "\n",
    "    # Sort the table by percentage of missing descending\n",
    "    mis_val_table_ren_columns = mis_val_table_ren_columns[\n",
    "        mis_val_table_ren_columns.iloc[:,1] != 0].sort_values(\n",
    "    '% of Total Values', ascending=False).round(1)\n",
    "\n",
    "    # Print some summary information\n",
    "    print (\"Your selected dataframe has \" + str(dataFrame.shape[1]) + \" columns.\\n\"      \n",
    "        \"There are \" + str(mis_val_table_ren_columns.shape[0]) + \" columns that have missing values.\")\n",
    "\n",
    "    # Return the dataframe with missing information\n",
    "    return mis_val_table_ren_columns\n",
    "\n",
    "print(missing_values_table(dataFrame))"
   ]
  },
  {
   "cell_type": "markdown",
   "id": "ddf423af",
   "metadata": {},
   "source": [
    "### cleaning"
   ]
  },
  {
   "cell_type": "code",
   "execution_count": 101,
   "id": "a8bd622b",
   "metadata": {},
   "outputs": [
    {
     "data": {
      "text/plain": [
       "(150001, 48)"
      ]
     },
     "execution_count": 101,
     "metadata": {},
     "output_type": "execute_result"
    }
   ],
   "source": [
    "# drop columns with more than 30% missing values\n",
    "df_clean = db.drop(['Nb of sec with 125000B < Vol DL','Nb of sec with 6250B < Vol UL < 37500B','Nb of sec with 125000B < Vol DL',\n",
    "                   'TCP UL Retrans. Vol (Bytes)','Nb of sec with 31250B < Vol DL < 125000B','Nb of sec with 6250B < Vol DL < 31250B',\n",
    "                    'TCP DL Retrans. Vol (Bytes)','HTTP UL (Bytes)'], axis=1)\n",
    "df_clean.shape"
   ]
  },
  {
   "cell_type": "code",
   "execution_count": 102,
   "id": "da2238dd",
   "metadata": {},
   "outputs": [],
   "source": [
    "#outliers\n"
   ]
  },
  {
   "cell_type": "markdown",
   "id": "bf19f827",
   "metadata": {},
   "source": [
    "#  below I Describe all relevant variables and associated data types "
   ]
  },
  {
   "cell_type": "code",
   "execution_count": 103,
   "id": "fa84f8ef",
   "metadata": {},
   "outputs": [],
   "source": [
    "dataFrame=dataFrame.rename(columns = {'Total DL (Bytes)' : 'totalDL','Total UL (Bytes)' : 'totalUL','Dur. (ms)' : 'dur','MSISDN/Number':'msisdn','Last Location Name':'location','Handset Manufacturer':'manufacturer','Handset Type':'handset'})\n",
    "\n",
    "# get total data transferred for each application\n",
    "google = dataFrame['Google DL (Bytes)']+ dataFrame['Google UL (Bytes)']\n",
    "email = dataFrame['Email DL (Bytes)']+ dataFrame['Email UL (Bytes)']\n",
    "gaming = dataFrame['Gaming DL (Bytes)']+ dataFrame['Gaming UL (Bytes)']\n",
    "youtube = dataFrame['Youtube DL (Bytes)']+ dataFrame['Youtube UL (Bytes)']\n",
    "netflix = dataFrame['Netflix DL (Bytes)']+ dataFrame['Netflix UL (Bytes)']\n",
    "social = dataFrame['Social Media DL (Bytes)']+ dataFrame['Social Media UL (Bytes)']\n",
    "\n",
    "dataFrame['google']=google\n",
    "dataFrame['email']=email\n",
    "dataFrame['gaming']=gaming\n",
    "dataFrame['youtube']=youtube\n",
    "dataFrame['netflix']=netflix\n",
    "dataFrame['social']=social\n",
    "\n",
    "\n",
    "relevantDataFrame = dataFrame[['msisdn','dur','totalDL','totalUL','google','email','gaming','youtube','netflix','social']]\n"
   ]
  },
  {
   "cell_type": "code",
   "execution_count": 104,
   "id": "ed4d6a33",
   "metadata": {},
   "outputs": [
    {
     "data": {
      "text/html": [
       "<div>\n",
       "<style scoped>\n",
       "    .dataframe tbody tr th:only-of-type {\n",
       "        vertical-align: middle;\n",
       "    }\n",
       "\n",
       "    .dataframe tbody tr th {\n",
       "        vertical-align: top;\n",
       "    }\n",
       "\n",
       "    .dataframe thead th {\n",
       "        text-align: right;\n",
       "    }\n",
       "</style>\n",
       "<table border=\"1\" class=\"dataframe\">\n",
       "  <thead>\n",
       "    <tr style=\"text-align: right;\">\n",
       "      <th></th>\n",
       "      <th>msisdn</th>\n",
       "      <th>dur</th>\n",
       "      <th>totalDL</th>\n",
       "      <th>totalUL</th>\n",
       "      <th>google</th>\n",
       "      <th>email</th>\n",
       "      <th>gaming</th>\n",
       "      <th>youtube</th>\n",
       "      <th>netflix</th>\n",
       "      <th>social</th>\n",
       "    </tr>\n",
       "  </thead>\n",
       "  <tbody>\n",
       "    <tr>\n",
       "      <th>count</th>\n",
       "      <td>1.489350e+05</td>\n",
       "      <td>150000.000000</td>\n",
       "      <td>1.500000e+05</td>\n",
       "      <td>1.500000e+05</td>\n",
       "      <td>1.500010e+05</td>\n",
       "      <td>1.500010e+05</td>\n",
       "      <td>1.500010e+05</td>\n",
       "      <td>1.500010e+05</td>\n",
       "      <td>1.500010e+05</td>\n",
       "      <td>1.500010e+05</td>\n",
       "    </tr>\n",
       "    <tr>\n",
       "      <th>mean</th>\n",
       "      <td>4.188282e+10</td>\n",
       "      <td>99786.623793</td>\n",
       "      <td>4.546434e+08</td>\n",
       "      <td>4.112121e+07</td>\n",
       "      <td>7.807295e+06</td>\n",
       "      <td>2.259102e+06</td>\n",
       "      <td>4.303331e+08</td>\n",
       "      <td>2.264348e+07</td>\n",
       "      <td>2.262861e+07</td>\n",
       "      <td>1.828250e+06</td>\n",
       "    </tr>\n",
       "    <tr>\n",
       "      <th>std</th>\n",
       "      <td>2.447443e+12</td>\n",
       "      <td>62859.909937</td>\n",
       "      <td>2.441429e+08</td>\n",
       "      <td>1.127639e+07</td>\n",
       "      <td>3.516420e+06</td>\n",
       "      <td>1.071109e+06</td>\n",
       "      <td>2.440199e+08</td>\n",
       "      <td>9.246800e+06</td>\n",
       "      <td>9.260820e+06</td>\n",
       "      <td>1.035646e+06</td>\n",
       "    </tr>\n",
       "    <tr>\n",
       "      <th>min</th>\n",
       "      <td>3.360100e+10</td>\n",
       "      <td>7142.000000</td>\n",
       "      <td>7.114041e+06</td>\n",
       "      <td>2.866892e+06</td>\n",
       "      <td>4.033000e+04</td>\n",
       "      <td>8.359000e+03</td>\n",
       "      <td>3.063580e+05</td>\n",
       "      <td>7.890300e+04</td>\n",
       "      <td>9.843200e+04</td>\n",
       "      <td>1.563000e+03</td>\n",
       "    </tr>\n",
       "    <tr>\n",
       "      <th>25%</th>\n",
       "      <td>3.365130e+10</td>\n",
       "      <td>57440.500000</td>\n",
       "      <td>2.431068e+08</td>\n",
       "      <td>3.322201e+07</td>\n",
       "      <td>4.943599e+06</td>\n",
       "      <td>1.359344e+06</td>\n",
       "      <td>2.187279e+08</td>\n",
       "      <td>1.599846e+07</td>\n",
       "      <td>1.597946e+07</td>\n",
       "      <td>9.322180e+05</td>\n",
       "    </tr>\n",
       "    <tr>\n",
       "      <th>50%</th>\n",
       "      <td>3.366371e+10</td>\n",
       "      <td>86399.000000</td>\n",
       "      <td>4.558411e+08</td>\n",
       "      <td>4.114331e+07</td>\n",
       "      <td>7.812835e+06</td>\n",
       "      <td>2.263567e+06</td>\n",
       "      <td>4.316150e+08</td>\n",
       "      <td>2.266177e+07</td>\n",
       "      <td>2.263554e+07</td>\n",
       "      <td>1.826471e+06</td>\n",
       "    </tr>\n",
       "    <tr>\n",
       "      <th>75%</th>\n",
       "      <td>3.368349e+10</td>\n",
       "      <td>129367.000000</td>\n",
       "      <td>6.657055e+08</td>\n",
       "      <td>4.903424e+07</td>\n",
       "      <td>1.068280e+07</td>\n",
       "      <td>3.159818e+06</td>\n",
       "      <td>6.414159e+08</td>\n",
       "      <td>2.929260e+07</td>\n",
       "      <td>2.929044e+07</td>\n",
       "      <td>2.727487e+06</td>\n",
       "    </tr>\n",
       "    <tr>\n",
       "      <th>max</th>\n",
       "      <td>8.823971e+14</td>\n",
       "      <td>399875.000000</td>\n",
       "      <td>9.029696e+08</td>\n",
       "      <td>7.833131e+07</td>\n",
       "      <td>1.552878e+07</td>\n",
       "      <td>4.518036e+06</td>\n",
       "      <td>8.592028e+08</td>\n",
       "      <td>4.519008e+07</td>\n",
       "      <td>4.519815e+07</td>\n",
       "      <td>3.650861e+06</td>\n",
       "    </tr>\n",
       "  </tbody>\n",
       "</table>\n",
       "</div>"
      ],
      "text/plain": [
       "             msisdn            dur       totalDL       totalUL        google  \\\n",
       "count  1.489350e+05  150000.000000  1.500000e+05  1.500000e+05  1.500010e+05   \n",
       "mean   4.188282e+10   99786.623793  4.546434e+08  4.112121e+07  7.807295e+06   \n",
       "std    2.447443e+12   62859.909937  2.441429e+08  1.127639e+07  3.516420e+06   \n",
       "min    3.360100e+10    7142.000000  7.114041e+06  2.866892e+06  4.033000e+04   \n",
       "25%    3.365130e+10   57440.500000  2.431068e+08  3.322201e+07  4.943599e+06   \n",
       "50%    3.366371e+10   86399.000000  4.558411e+08  4.114331e+07  7.812835e+06   \n",
       "75%    3.368349e+10  129367.000000  6.657055e+08  4.903424e+07  1.068280e+07   \n",
       "max    8.823971e+14  399875.000000  9.029696e+08  7.833131e+07  1.552878e+07   \n",
       "\n",
       "              email        gaming       youtube       netflix        social  \n",
       "count  1.500010e+05  1.500010e+05  1.500010e+05  1.500010e+05  1.500010e+05  \n",
       "mean   2.259102e+06  4.303331e+08  2.264348e+07  2.262861e+07  1.828250e+06  \n",
       "std    1.071109e+06  2.440199e+08  9.246800e+06  9.260820e+06  1.035646e+06  \n",
       "min    8.359000e+03  3.063580e+05  7.890300e+04  9.843200e+04  1.563000e+03  \n",
       "25%    1.359344e+06  2.187279e+08  1.599846e+07  1.597946e+07  9.322180e+05  \n",
       "50%    2.263567e+06  4.316150e+08  2.266177e+07  2.263554e+07  1.826471e+06  \n",
       "75%    3.159818e+06  6.414159e+08  2.929260e+07  2.929044e+07  2.727487e+06  \n",
       "max    4.518036e+06  8.592028e+08  4.519008e+07  4.519815e+07  3.650861e+06  "
      ]
     },
     "execution_count": 104,
     "metadata": {},
     "output_type": "execute_result"
    }
   ],
   "source": [
    "median=relevantDataFrame['dur'].median()\n",
    "relevantDataFrame[\"dur\"] = np.where(relevantDataFrame[\"dur\"] >400000, median,relevantDataFrame['dur'])\n",
    "\n",
    "relevantDataFrame.describe()"
   ]
  },
  {
   "cell_type": "markdown",
   "id": "482bc645",
   "metadata": {},
   "source": [
    "# from the above we can coclude"
   ]
  },
  {
   "cell_type": "markdown",
   "id": "d62e5040",
   "metadata": {},
   "source": [
    "### 1.mostly user prefer downloading rather than uploading and\n",
    "### 2.most users of the service spend data usage more on gaming applications."
   ]
  },
  {
   "cell_type": "code",
   "execution_count": 115,
   "id": "41a3a422",
   "metadata": {},
   "outputs": [],
   "source": []
  },
  {
   "cell_type": "code",
   "execution_count": null,
   "id": "99aab84a",
   "metadata": {},
   "outputs": [],
   "source": []
  },
  {
   "cell_type": "markdown",
   "id": "28d4adf7",
   "metadata": {},
   "source": [
    "# below I am going to show density plot,it shows that most of the sessions      last between 0 and 25000000ms"
   ]
  },
  {
   "cell_type": "code",
   "execution_count": 105,
   "id": "ecd7b190",
   "metadata": {},
   "outputs": [
    {
     "data": {
      "text/plain": [
       "Text(0.5, 0, 'Duration (ms)')"
      ]
     },
     "execution_count": 105,
     "metadata": {},
     "output_type": "execute_result"
    },
    {
     "data": {
      "image/png": "[encoded data removed]",
      "text/plain": [
       "<Figure size 432x288 with 1 Axes>"
      ]
     },
     "metadata": {
      "needs_background": "light"
     },
     "output_type": "display_data"
    }
   ],
   "source": [
    "ax=relevantDataFrame['dur'].plot.density(ind=50)\n",
    "ax.set_xlabel('Duration (ms)')"
   ]
  },
  {
   "cell_type": "markdown",
   "id": "0fafa2bf",
   "metadata": {},
   "source": []
  },
  {
   "cell_type": "code",
   "execution_count": 106,
   "id": "c2ce1c07",
   "metadata": {},
   "outputs": [
    {
     "data": {
      "text/plain": [
       "<AxesSubplot:ylabel='Frequency'>"
      ]
     },
     "execution_count": 106,
     "metadata": {},
     "output_type": "execute_result"
    },
    {
     "data": {
      "image/png": "[encoded data removed]",
      "text/plain": [
       "<Figure size 432x288 with 1 Axes>"
      ]
     },
     "metadata": {
      "needs_background": "light"
     },
     "output_type": "display_data"
    }
   ],
   "source": [
    "relevantDataFrame['email'].plot.hist()"
   ]
  },
  {
   "cell_type": "code",
   "execution_count": 107,
   "id": "92fcf615",
   "metadata": {},
   "outputs": [
    {
     "data": {
      "text/plain": [
       "<AxesSubplot:ylabel='Frequency'>"
      ]
     },
     "execution_count": 107,
     "metadata": {},
     "output_type": "execute_result"
    },
    {
     "data": {
      "image/png": "[encoded data removed]",
      "text/plain": [
       "<Figure size 432x288 with 1 Axes>"
      ]
     },
     "metadata": {
      "needs_background": "light"
     },
     "output_type": "display_data"
    }
   ],
   "source": [
    "relevantDataFrame['gaming'].plot.hist()"
   ]
  },
  {
   "cell_type": "markdown",
   "id": "3d879f44",
   "metadata": {},
   "source": []
  },
  {
   "cell_type": "markdown",
   "id": "695b570b",
   "metadata": {},
   "source": [
    "# the above graph show that the data consumed by gaming seems to vary more  "
   ]
  },
  {
   "cell_type": "code",
   "execution_count": 108,
   "id": "8a460558",
   "metadata": {},
   "outputs": [
    {
     "data": {
      "text/plain": [
       "<AxesSubplot:>"
      ]
     },
     "execution_count": 108,
     "metadata": {},
     "output_type": "execute_result"
    },
    {
     "data": {
      "image/png": "[encoded data removed]",
      "text/plain": [
       "<Figure size 432x288 with 1 Axes>"
      ]
     },
     "metadata": {
      "needs_background": "light"
     },
     "output_type": "display_data"
    }
   ],
   "source": [
    "relevantDataFrame[['youtube','gaming','email','netflix','social']].sum().plot(kind='bar')"
   ]
  },
  {
   "cell_type": "markdown",
   "id": "616db997",
   "metadata": {},
   "source": [
    "# From the above graph we can conclude that most user spend the data on gaming\n"
   ]
  },
  {
   "cell_type": "code",
   "execution_count": 109,
   "id": "387e2938",
   "metadata": {},
   "outputs": [
    {
     "data": {
      "text/plain": [
       "Text(0, 0.5, 'Data Transfers')"
      ]
     },
     "execution_count": 109,
     "metadata": {},
     "output_type": "execute_result"
    },
    {
     "data": {
      "image/png": "[encoded data removed]",
      "text/plain": [
       "<Figure size 432x288 with 1 Axes>"
      ]
     },
     "metadata": {
      "needs_background": "light"
     },
     "output_type": "display_data"
    }
   ],
   "source": [
    "sum_column = dataFrame[\"totalUL\"] + dataFrame[\"totalDL\"]\n",
    "relevantDataFrame['totalData']=sum_column\n",
    "\n",
    "relevantDataFrame['Decile'] = pd.qcut(relevantDataFrame['dur'],11,duplicates='drop')\n",
    "ax=relevantDataFrame.groupby('Decile')['totalData'].sum().sort_values(ascending=False).tail(5).plot(kind='bar',xticks=[0,1,2,3,4])\n",
    "ax.set_xticklabels(['First','Second','Third','Fourth','Fifth'])\n",
    "ax.set_ylabel('Data Transfers')"
   ]
  },
  {
   "cell_type": "markdown",
   "id": "4de47386",
   "metadata": {},
   "source": [
    "# the above graph segment the users into top five decile classes\n",
    "based on the total duration for all sessions and compute the total data\n",
    "(DL+UL) per decile class."
   ]
  },
  {
   "cell_type": "code",
   "execution_count": 110,
   "id": "6d26be15",
   "metadata": {},
   "outputs": [
    {
     "data": {
      "text/html": [
       "<div>\n",
       "<style scoped>\n",
       "    .dataframe tbody tr th:only-of-type {\n",
       "        vertical-align: middle;\n",
       "    }\n",
       "\n",
       "    .dataframe tbody tr th {\n",
       "        vertical-align: top;\n",
       "    }\n",
       "\n",
       "    .dataframe thead th {\n",
       "        text-align: right;\n",
       "    }\n",
       "</style>\n",
       "<table border=\"1\" class=\"dataframe\">\n",
       "  <thead>\n",
       "    <tr style=\"text-align: right;\">\n",
       "      <th></th>\n",
       "      <th>email</th>\n",
       "      <th>gaming</th>\n",
       "      <th>youtube</th>\n",
       "      <th>social</th>\n",
       "      <th>netflix</th>\n",
       "    </tr>\n",
       "  </thead>\n",
       "  <tbody>\n",
       "    <tr>\n",
       "      <th>email</th>\n",
       "      <td>1.000000</td>\n",
       "      <td>-0.000644</td>\n",
       "      <td>-0.002919</td>\n",
       "      <td>0.004032</td>\n",
       "      <td>0.001029</td>\n",
       "    </tr>\n",
       "    <tr>\n",
       "      <th>gaming</th>\n",
       "      <td>-0.000644</td>\n",
       "      <td>1.000000</td>\n",
       "      <td>-0.002999</td>\n",
       "      <td>0.001082</td>\n",
       "      <td>-0.003109</td>\n",
       "    </tr>\n",
       "    <tr>\n",
       "      <th>youtube</th>\n",
       "      <td>-0.002919</td>\n",
       "      <td>-0.002999</td>\n",
       "      <td>1.000000</td>\n",
       "      <td>0.000548</td>\n",
       "      <td>0.002882</td>\n",
       "    </tr>\n",
       "    <tr>\n",
       "      <th>social</th>\n",
       "      <td>0.004032</td>\n",
       "      <td>0.001082</td>\n",
       "      <td>0.000548</td>\n",
       "      <td>1.000000</td>\n",
       "      <td>0.001013</td>\n",
       "    </tr>\n",
       "    <tr>\n",
       "      <th>netflix</th>\n",
       "      <td>0.001029</td>\n",
       "      <td>-0.003109</td>\n",
       "      <td>0.002882</td>\n",
       "      <td>0.001013</td>\n",
       "      <td>1.000000</td>\n",
       "    </tr>\n",
       "  </tbody>\n",
       "</table>\n",
       "</div>"
      ],
      "text/plain": [
       "            email    gaming   youtube    social   netflix\n",
       "email    1.000000 -0.000644 -0.002919  0.004032  0.001029\n",
       "gaming  -0.000644  1.000000 -0.002999  0.001082 -0.003109\n",
       "youtube -0.002919 -0.002999  1.000000  0.000548  0.002882\n",
       "social   0.004032  0.001082  0.000548  1.000000  0.001013\n",
       "netflix  0.001029 -0.003109  0.002882  0.001013  1.000000"
      ]
     },
     "execution_count": 110,
     "metadata": {},
     "output_type": "execute_result"
    }
   ],
   "source": [
    "relevantDataFrame[['email','gaming','youtube','social','netflix']].corr(method ='pearson')"
   ]
  },
  {
   "cell_type": "markdown",
   "id": "c97e6832",
   "metadata": {},
   "source": [
    "# interpreting Correlation Analysis\n",
    "social media and email are more correlated than others(0.004032). The correlation b/n youtube and email(0.002919), netflix and email have relatively higher negative correlation (1.000000)"
   ]
  },
  {
   "cell_type": "code",
   "execution_count": 111,
   "id": "7c1de3e7",
   "metadata": {},
   "outputs": [],
   "source": [
    "relevantDataFrame = dataFrame[['msisdn','dur','totalDL','totalUL','google','email','gaming','youtube','netflix','social']]\n",
    "relevantDataFrame['totalAppData'] = relevantDataFrame['google'] + relevantDataFrame['youtube'] +relevantDataFrame['email']+relevantDataFrame['netflix']\n",
    "\n",
    "\n",
    "# add satisfaction column to a dataframe \n",
    "# ( Satisfaction is just an arbitrary class based on totalAppData, just to show Principal column analysis)\n",
    "def addSatisfactionLevel(row):\n",
    "    \n",
    "    if 55338486 <row['totalAppData']:\n",
    "        val = 'First Class'\n",
    "    elif 7432209.0 < row['totalAppData'] <55338486:\n",
    "        val = 'Second Class'\n",
    "    else: \n",
    "        val='N/A'\n",
    "    return val\n"
   ]
  },
  {
   "cell_type": "code",
   "execution_count": 112,
   "id": "bdf5a67d",
   "metadata": {},
   "outputs": [
    {
     "data": {
      "text/html": [
       "<div>\n",
       "<style scoped>\n",
       "    .dataframe tbody tr th:only-of-type {\n",
       "        vertical-align: middle;\n",
       "    }\n",
       "\n",
       "    .dataframe tbody tr th {\n",
       "        vertical-align: top;\n",
       "    }\n",
       "\n",
       "    .dataframe thead th {\n",
       "        text-align: right;\n",
       "    }\n",
       "</style>\n",
       "<table border=\"1\" class=\"dataframe\">\n",
       "  <thead>\n",
       "    <tr style=\"text-align: right;\">\n",
       "      <th></th>\n",
       "      <th>msisdn</th>\n",
       "      <th>dur</th>\n",
       "      <th>totalDL</th>\n",
       "      <th>totalUL</th>\n",
       "      <th>google</th>\n",
       "      <th>email</th>\n",
       "      <th>gaming</th>\n",
       "      <th>youtube</th>\n",
       "      <th>netflix</th>\n",
       "      <th>social</th>\n",
       "      <th>totalAppData</th>\n",
       "      <th>Satisfaction</th>\n",
       "    </tr>\n",
       "  </thead>\n",
       "  <tbody>\n",
       "    <tr>\n",
       "      <th>0</th>\n",
       "      <td>3.366496e+10</td>\n",
       "      <td>1823652.0</td>\n",
       "      <td>308879636.0</td>\n",
       "      <td>36749741.0</td>\n",
       "      <td>2905912.0</td>\n",
       "      <td>3701304.0</td>\n",
       "      <td>292426453.0</td>\n",
       "      <td>18355943.0</td>\n",
       "      <td>17855187.0</td>\n",
       "      <td>1570185.0</td>\n",
       "      <td>42818346.0</td>\n",
       "      <td>Second Class</td>\n",
       "    </tr>\n",
       "    <tr>\n",
       "      <th>1</th>\n",
       "      <td>3.368185e+10</td>\n",
       "      <td>1365104.0</td>\n",
       "      <td>653384965.0</td>\n",
       "      <td>53800391.0</td>\n",
       "      <td>4414096.0</td>\n",
       "      <td>937385.0</td>\n",
       "      <td>609920783.0</td>\n",
       "      <td>39359124.0</td>\n",
       "      <td>35565545.0</td>\n",
       "      <td>1933278.0</td>\n",
       "      <td>80276150.0</td>\n",
       "      <td>First Class</td>\n",
       "    </tr>\n",
       "    <tr>\n",
       "      <th>2</th>\n",
       "      <td>3.376063e+10</td>\n",
       "      <td>1361762.0</td>\n",
       "      <td>279807335.0</td>\n",
       "      <td>27883638.0</td>\n",
       "      <td>10229119.0</td>\n",
       "      <td>3363124.0</td>\n",
       "      <td>229980251.0</td>\n",
       "      <td>34425237.0</td>\n",
       "      <td>23751202.0</td>\n",
       "      <td>1726277.0</td>\n",
       "      <td>71768682.0</td>\n",
       "      <td>First Class</td>\n",
       "    </tr>\n",
       "    <tr>\n",
       "      <th>3</th>\n",
       "      <td>3.375034e+10</td>\n",
       "      <td>1321509.0</td>\n",
       "      <td>846028530.0</td>\n",
       "      <td>43324218.0</td>\n",
       "      <td>11811761.0</td>\n",
       "      <td>2070983.0</td>\n",
       "      <td>810387875.0</td>\n",
       "      <td>36534765.0</td>\n",
       "      <td>15092588.0</td>\n",
       "      <td>657493.0</td>\n",
       "      <td>65510097.0</td>\n",
       "      <td>First Class</td>\n",
       "    </tr>\n",
       "    <tr>\n",
       "      <th>4</th>\n",
       "      <td>3.369980e+10</td>\n",
       "      <td>1089009.0</td>\n",
       "      <td>569138589.0</td>\n",
       "      <td>38542814.0</td>\n",
       "      <td>7748843.0</td>\n",
       "      <td>2110349.0</td>\n",
       "      <td>531237049.0</td>\n",
       "      <td>34222253.0</td>\n",
       "      <td>17539799.0</td>\n",
       "      <td>912788.0</td>\n",
       "      <td>61621244.0</td>\n",
       "      <td>First Class</td>\n",
       "    </tr>\n",
       "    <tr>\n",
       "      <th>5</th>\n",
       "      <td>3.366819e+10</td>\n",
       "      <td>1074638.0</td>\n",
       "      <td>754452212.0</td>\n",
       "      <td>30307754.0</td>\n",
       "      <td>12934133.0</td>\n",
       "      <td>2902410.0</td>\n",
       "      <td>723461512.0</td>\n",
       "      <td>23944031.0</td>\n",
       "      <td>13881809.0</td>\n",
       "      <td>3200014.0</td>\n",
       "      <td>53662383.0</td>\n",
       "      <td>Second Class</td>\n",
       "    </tr>\n",
       "    <tr>\n",
       "      <th>6</th>\n",
       "      <td>3.366537e+10</td>\n",
       "      <td>1035261.0</td>\n",
       "      <td>70562047.0</td>\n",
       "      <td>47925246.0</td>\n",
       "      <td>4906872.0</td>\n",
       "      <td>2090979.0</td>\n",
       "      <td>58881157.0</td>\n",
       "      <td>9120760.0</td>\n",
       "      <td>31212766.0</td>\n",
       "      <td>1624991.0</td>\n",
       "      <td>47331377.0</td>\n",
       "      <td>Second Class</td>\n",
       "    </tr>\n",
       "    <tr>\n",
       "      <th>7</th>\n",
       "      <td>3.376349e+10</td>\n",
       "      <td>951292.0</td>\n",
       "      <td>775350343.0</td>\n",
       "      <td>58813016.0</td>\n",
       "      <td>3872713.0</td>\n",
       "      <td>3500104.0</td>\n",
       "      <td>765055811.0</td>\n",
       "      <td>31924969.0</td>\n",
       "      <td>18933702.0</td>\n",
       "      <td>3161403.0</td>\n",
       "      <td>58231488.0</td>\n",
       "      <td>First Class</td>\n",
       "    </tr>\n",
       "    <tr>\n",
       "      <th>8</th>\n",
       "      <td>3.369874e+10</td>\n",
       "      <td>941634.0</td>\n",
       "      <td>861612261.0</td>\n",
       "      <td>42363146.0</td>\n",
       "      <td>8902099.0</td>\n",
       "      <td>3380069.0</td>\n",
       "      <td>828219634.0</td>\n",
       "      <td>29297508.0</td>\n",
       "      <td>19054441.0</td>\n",
       "      <td>372625.0</td>\n",
       "      <td>60634117.0</td>\n",
       "      <td>First Class</td>\n",
       "    </tr>\n",
       "    <tr>\n",
       "      <th>9</th>\n",
       "      <td>3.365922e+10</td>\n",
       "      <td>864482.0</td>\n",
       "      <td>850570347.0</td>\n",
       "      <td>22417975.0</td>\n",
       "      <td>8778341.0</td>\n",
       "      <td>766046.0</td>\n",
       "      <td>812946425.0</td>\n",
       "      <td>22911539.0</td>\n",
       "      <td>13185350.0</td>\n",
       "      <td>1585413.0</td>\n",
       "      <td>45641276.0</td>\n",
       "      <td>Second Class</td>\n",
       "    </tr>\n",
       "  </tbody>\n",
       "</table>\n",
       "</div>"
      ],
      "text/plain": [
       "         msisdn        dur      totalDL     totalUL      google      email  \\\n",
       "0  3.366496e+10  1823652.0  308879636.0  36749741.0   2905912.0  3701304.0   \n",
       "1  3.368185e+10  1365104.0  653384965.0  53800391.0   4414096.0   937385.0   \n",
       "2  3.376063e+10  1361762.0  279807335.0  27883638.0  10229119.0  3363124.0   \n",
       "3  3.375034e+10  1321509.0  846028530.0  43324218.0  11811761.0  2070983.0   \n",
       "4  3.369980e+10  1089009.0  569138589.0  38542814.0   7748843.0  2110349.0   \n",
       "5  3.366819e+10  1074638.0  754452212.0  30307754.0  12934133.0  2902410.0   \n",
       "6  3.366537e+10  1035261.0   70562047.0  47925246.0   4906872.0  2090979.0   \n",
       "7  3.376349e+10   951292.0  775350343.0  58813016.0   3872713.0  3500104.0   \n",
       "8  3.369874e+10   941634.0  861612261.0  42363146.0   8902099.0  3380069.0   \n",
       "9  3.365922e+10   864482.0  850570347.0  22417975.0   8778341.0   766046.0   \n",
       "\n",
       "        gaming     youtube     netflix     social  totalAppData  Satisfaction  \n",
       "0  292426453.0  18355943.0  17855187.0  1570185.0    42818346.0  Second Class  \n",
       "1  609920783.0  39359124.0  35565545.0  1933278.0    80276150.0   First Class  \n",
       "2  229980251.0  34425237.0  23751202.0  1726277.0    71768682.0   First Class  \n",
       "3  810387875.0  36534765.0  15092588.0   657493.0    65510097.0   First Class  \n",
       "4  531237049.0  34222253.0  17539799.0   912788.0    61621244.0   First Class  \n",
       "5  723461512.0  23944031.0  13881809.0  3200014.0    53662383.0  Second Class  \n",
       "6   58881157.0   9120760.0  31212766.0  1624991.0    47331377.0  Second Class  \n",
       "7  765055811.0  31924969.0  18933702.0  3161403.0    58231488.0   First Class  \n",
       "8  828219634.0  29297508.0  19054441.0   372625.0    60634117.0   First Class  \n",
       "9  812946425.0  22911539.0  13185350.0  1585413.0    45641276.0  Second Class  "
      ]
     },
     "execution_count": 112,
     "metadata": {},
     "output_type": "execute_result"
    }
   ],
   "source": [
    "dataFrame=dataFrame.rename(columns = {'Total DL (Bytes)' : 'totalDL','Total UL (Bytes)' : 'totalUL','Dur. (ms)' : 'dur','MSISDN/Number':'msisdn','Last Location Name':'location','Handset Manufacturer':'manufacturer','Handset Type':'handset'})\n",
    "\n",
    "google = dataFrame['Google DL (Bytes)']+ dataFrame['Google UL (Bytes)']\n",
    "email = dataFrame['Email DL (Bytes)']+ dataFrame['Email UL (Bytes)']\n",
    "gaming = dataFrame['Gaming DL (Bytes)']+ dataFrame['Gaming UL (Bytes)']\n",
    "youtube = dataFrame['Youtube DL (Bytes)']+ dataFrame['Youtube UL (Bytes)']\n",
    "netflix = dataFrame['Netflix DL (Bytes)']+ dataFrame['Netflix UL (Bytes)']\n",
    "social = dataFrame['Social Media DL (Bytes)']+ dataFrame['Social Media UL (Bytes)']\n",
    "\n",
    "dataFrame['google']=google\n",
    "dataFrame['email']=email\n",
    "dataFrame['gaming']=gaming\n",
    "dataFrame['youtube']=youtube\n",
    "dataFrame['netflix']=netflix\n",
    "dataFrame['social']=social\n",
    "\n",
    "#print(relevantDataFrame.head())\n",
    "\n",
    "\n",
    "relevantDataFrame['Satisfaction'] = relevantDataFrame.apply(addSatisfactionLevel, axis=1)\n",
    "relevantDataFrame.head(10)"
   ]
  },
  {
   "cell_type": "markdown",
   "id": "04ddb338",
   "metadata": {},
   "source": [
    "# As we can see we have 4 Second Class and 6 First Class Entries for satisfaction. Lets check if we can get the same result after reducing the dimensionality."
   ]
  },
  {
   "cell_type": "code",
   "execution_count": 113,
   "id": "3f800d39",
   "metadata": {},
   "outputs": [
    {
     "name": "stdout",
     "output_type": "stream",
     "text": [
      "(106856, 5)\n"
     ]
    },
    {
     "data": {
      "text/plain": [
       "(106856, 2)"
      ]
     },
     "execution_count": 113,
     "metadata": {},
     "output_type": "execute_result"
    }
   ],
   "source": [
    "from sklearn.decomposition import PCA\n",
    "from sklearn.preprocessing import StandardScaler\n",
    "features = ['social', 'email','netflix','youtube', 'gaming']\n",
    "x=relevantDataFrame.groupby('msisdn').sum().loc[:, features].values\n",
    "pca = PCA(n_components=2)\n",
    "scaler=StandardScaler()\n",
    "scaler.fit(x)\n",
    "StandardScaler(copy=True, with_mean=True,with_std=True)\n",
    "scaled_data=scaler.transform(x)\n",
    "pca.fit(scaled_data)\n",
    "\n",
    "principalComponents = pca.fit_transform(scaled_data)\n",
    "principalDf = pd.DataFrame(data = principalComponents\n",
    "             , columns = ['principal component 1', 'principal component 2'])\n",
    "\n",
    "print(scaled_data.shape)\n",
    "principalComponents.shape"
   ]
  },
  {
   "cell_type": "markdown",
   "id": "2f582e03",
   "metadata": {},
   "source": [
    "As shown above we have managed to reduce the dimensions from 5 down to 2 without losing too much information"
   ]
  },
  {
   "cell_type": "markdown",
   "id": "525a0582",
   "metadata": {},
   "source": [
    "# Let us check if the reduced dataframe results in the same satisfaction level"
   ]
  },
  {
   "cell_type": "code",
   "execution_count": 114,
   "id": "c8fe1b8f",
   "metadata": {},
   "outputs": [
    {
     "data": {
      "image/png": "[encoded data removed]",
      "text/plain": [
       "<Figure size 576x576 with 1 Axes>"
      ]
     },
     "metadata": {
      "needs_background": "light"
     },
     "output_type": "display_data"
    }
   ],
   "source": [
    "finalDf = pd.concat([principalDf, relevantDataFrame[['Satisfaction']]], axis = 1)\n",
    "fig = plt.figure(figsize = (8,8))\n",
    "ax = fig.add_subplot(1,1,1) \n",
    "ax.set_xlabel('Principal Component 1', fontsize = 15)\n",
    "ax.set_ylabel('Principal Component 2', fontsize = 15)\n",
    "ax.set_title('2 component PCA', fontsize = 20)\n",
    "targets = ['First Class', 'Second Class', 'N/A']\n",
    "colors = ['r', 'g', 'b']\n",
    "for target, color in zip(targets,colors):\n",
    "    indicesToKeep = finalDf['Satisfaction'] == target\n",
    "    ax.scatter(finalDf.head(10).loc[indicesToKeep, 'principal component 1']\n",
    "               , finalDf.head(10).loc[indicesToKeep, 'principal component 2']\n",
    "               , c = color\n",
    "               , s = 50)\n",
    "ax.legend(targets)\n",
    "ax.grid()"
   ]
  },
  {
   "cell_type": "markdown",
   "id": "67a1572b",
   "metadata": {},
   "source": [
    "# we get the same result as before, even after reducing the Dimensionality."
   ]
  },
  {
   "cell_type": "code",
   "execution_count": null,
   "id": "1d0fba68",
   "metadata": {},
   "outputs": [],
   "source": []
  }
 ],
 "metadata": {
  "kernelspec": {
   "display_name": "Python 3",
   "language": "python",
   "name": "python3"
  },
  "language_info": {
   "codemirror_mode": {
    "name": "ipython",
    "version": 3
   },
   "file_extension": ".py",
   "mimetype": "text/x-python",
   "name": "python",
   "nbconvert_exporter": "python",
   "pygments_lexer": "ipython3",
   "version": "3.9.1"
  }
 },
 "nbformat": 4,
 "nbformat_minor": 5
}
