{
 "cells": [
  {
   "cell_type": "markdown",
   "id": "a530d8d2",
   "metadata": {},
   "source": [
    "# Importing libraries"
   ]
  },
  {
   "cell_type": "code",
   "execution_count": 2,
   "id": "7d20e566",
   "metadata": {},
   "outputs": [],
   "source": [
    "import pandas as pd\n",
    "import seaborn as sb\n",
    "import matplotlib.pyplot as plt\n",
    "import numpy as np\n",
    "%matplotlib inline\n",
    "from sklearn import preprocessing\n",
    "from itertools import islice\n",
    "import seaborn as sns\n",
    "from sklearn.cluster import KMeans"
   ]
  },
  {
   "cell_type": "markdown",
   "id": "1256c43e",
   "metadata": {},
   "source": [
    "### Ignoring warnings"
   ]
  },
  {
   "cell_type": "code",
   "execution_count": 3,
   "id": "1160a6b9",
   "metadata": {},
   "outputs": [],
   "source": [
    "import warnings\n",
    "warnings.filterwarnings('ignore')"
   ]
  },
  {
   "cell_type": "code",
   "execution_count": 4,
   "id": "23b91fee",
   "metadata": {},
   "outputs": [],
   "source": [
    "dataFrame = pd.read_csv('../data/week1_challenge.csv', na_values=['?', None])"
   ]
  },
  {
   "cell_type": "code",
   "execution_count": null,
   "id": "5cd420fe",
   "metadata": {},
   "outputs": [],
   "source": []
  }
 ],
 "metadata": {
  "kernelspec": {
   "display_name": "Python 3",
   "language": "python",
   "name": "python3"
  },
  "language_info": {
   "codemirror_mode": {
    "name": "ipython",
    "version": 3
   },
   "file_extension": ".py",
   "mimetype": "text/x-python",
   "name": "python",
   "nbconvert_exporter": "python",
   "pygments_lexer": "ipython3",
   "version": "3.9.1"
  }
 },
 "nbformat": 4,
 "nbformat_minor": 5
}
